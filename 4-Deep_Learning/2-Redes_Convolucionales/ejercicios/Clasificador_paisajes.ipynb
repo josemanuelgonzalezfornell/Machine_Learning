{
 "cells": [
  {
   "attachments": {},
   "cell_type": "markdown",
   "metadata": {},
   "source": [
    "# Clasificador paisajes\n",
    "Para este ejercicio vas a crear un clasificador automático de paisajes. Los datos los encontrarás en el Classroom como `seg_train.zip` y `seg_test.zip`. Se pide:\n",
    "1. Cargar las imágenes. Mira cómo están almacenados los datos. Tendrás que recorrer las carpetas, cargar las imágenes en memoria y etiquetarlas con los nombres de las carpetas. Realiza un reshape de cada imagen (comienza el ejercicio con 32x32, para ir más rápido en las ejecuciones).\n",
    "2. Investiga las imágenes, comprueba con algunas muestras que has cargado bien los datos.\n",
    "3. Normaliza\n",
    "4. Diseña la arquitectura de la red. Recuerda que es un algiritmo de clasificación. Ojo con las dimensiones de la entrada\n",
    "5. Reserva un 20% de los datos del entrenamiento para validar.\n",
    "6. Representa el objeto history\n",
    "7. Evalua el modelo con los datos de test\n",
    "8. Representa algunos de los paisajes donde el modelo comete errores\n",
    "9. Crea una matriz de confusión con los errores del modelo\n",
    "\n",
    "**NOTA apartado 1**: para el apartado 1 tendras que recorre las carpetas/imagenes con `os.listdir()`, e ir cargando todas las imagenes como arrays de numpy\n",
    "\n",
    "**NOTA apartado 4**: empieza con un par de capas Conv2D + MaxPooling2D con activación relu y después la fully connected layer. on softmax como ultima capa"
   ]
  },
  {
   "cell_type": "code",
   "execution_count": 1,
   "metadata": {},
   "outputs": [
    {
     "name": "stderr",
     "output_type": "stream",
     "text": [
      "2023-06-20 19:25:35.767720: I tensorflow/core/platform/cpu_feature_guard.cc:182] This TensorFlow binary is optimized to use available CPU instructions in performance-critical operations.\n",
      "To enable the following instructions: AVX2 FMA, in other operations, rebuild TensorFlow with the appropriate compiler flags.\n"
     ]
    }
   ],
   "source": [
    "import numpy as np\n",
    "import pandas as pd\n",
    "import os\n",
    "import matplotlib.pyplot as plt\n",
    "import cv2\n",
    "from tensorflow import keras\n",
    "from skimage.io import imread\n",
    "import random\n",
    "from keras.callbacks import EarlyStopping\n",
    "from sklearn.metrics import confusion_matrix\n",
    "from sklearn.utils import shuffle"
   ]
  },
  {
   "attachments": {},
   "cell_type": "markdown",
   "metadata": {},
   "source": [
    "# Ejercicio 1"
   ]
  },
  {
   "cell_type": "code",
   "execution_count": 2,
   "metadata": {},
   "outputs": [],
   "source": [
    "class_names = ['mountain','street','glacier', 'buildings','sea','forest']\n",
    "\n",
    "IMAGE_SIZE = (32,32)"
   ]
  },
  {
   "cell_type": "code",
   "execution_count": 3,
   "metadata": {},
   "outputs": [
    {
     "data": {
      "text/plain": [
       "{'mountain': 0,\n",
       " 'street': 1,\n",
       " 'glacier': 2,\n",
       " 'buildings': 3,\n",
       " 'sea': 4,\n",
       " 'forest': 5}"
      ]
     },
     "execution_count": 3,
     "metadata": {},
     "output_type": "execute_result"
    }
   ],
   "source": [
    "class_names_label = {class_name:i for i ,class_name in enumerate(class_names)}\n",
    "class_names_label"
   ]
  },
  {
   "cell_type": "code",
   "execution_count": 4,
   "metadata": {},
   "outputs": [],
   "source": [
    "def obtain_data(path, class_names, image_size):\n",
    "    class_names_label = {class_name:i for i ,class_name in enumerate(class_names)}\n",
    "    images = []\n",
    "    labels = []\n",
    "    X = []\n",
    "    Y = []\n",
    "    for dir in os.listdir(path):\n",
    "        for img in os.listdir(path+'/'+dir):\n",
    "            labels.append(dir)\n",
    "            images.append(img)\n",
    "            Y.append(class_names_label[dir])\n",
    "            image = cv2.imread(path+'/'+dir+'/'+img)\n",
    "            image_resize = cv2.resize(image, image_size)\n",
    "            X.append(image_resize)\n",
    "    df = pd.DataFrame({'image': images, 'label': labels})\n",
    "    return df, np.array(X), np.array(Y)\n"
   ]
  },
  {
   "cell_type": "code",
   "execution_count": 5,
   "metadata": {},
   "outputs": [],
   "source": [
    "df_train, X_train, Y_train = obtain_data(\"data/train\", class_names, IMAGE_SIZE)\n",
    "df_test, X_test, Y_test = obtain_data(\"data/test\", class_names, IMAGE_SIZE)"
   ]
  },
  {
   "cell_type": "code",
   "execution_count": 6,
   "metadata": {},
   "outputs": [
    {
     "data": {
      "text/html": [
       "<div>\n",
       "<style scoped>\n",
       "    .dataframe tbody tr th:only-of-type {\n",
       "        vertical-align: middle;\n",
       "    }\n",
       "\n",
       "    .dataframe tbody tr th {\n",
       "        vertical-align: top;\n",
       "    }\n",
       "\n",
       "    .dataframe thead th {\n",
       "        text-align: right;\n",
       "    }\n",
       "</style>\n",
       "<table border=\"1\" class=\"dataframe\">\n",
       "  <thead>\n",
       "    <tr style=\"text-align: right;\">\n",
       "      <th></th>\n",
       "      <th>image</th>\n",
       "      <th>label</th>\n",
       "    </tr>\n",
       "  </thead>\n",
       "  <tbody>\n",
       "    <tr>\n",
       "      <th>0</th>\n",
       "      <td>5109.jpg</td>\n",
       "      <td>forest</td>\n",
       "    </tr>\n",
       "    <tr>\n",
       "      <th>1</th>\n",
       "      <td>14621.jpg</td>\n",
       "      <td>forest</td>\n",
       "    </tr>\n",
       "    <tr>\n",
       "      <th>2</th>\n",
       "      <td>6366.jpg</td>\n",
       "      <td>forest</td>\n",
       "    </tr>\n",
       "    <tr>\n",
       "      <th>3</th>\n",
       "      <td>4565.jpg</td>\n",
       "      <td>forest</td>\n",
       "    </tr>\n",
       "    <tr>\n",
       "      <th>4</th>\n",
       "      <td>17472.jpg</td>\n",
       "      <td>forest</td>\n",
       "    </tr>\n",
       "    <tr>\n",
       "      <th>...</th>\n",
       "      <td>...</td>\n",
       "      <td>...</td>\n",
       "    </tr>\n",
       "    <tr>\n",
       "      <th>14029</th>\n",
       "      <td>9058.jpg</td>\n",
       "      <td>sea</td>\n",
       "    </tr>\n",
       "    <tr>\n",
       "      <th>14030</th>\n",
       "      <td>12249.jpg</td>\n",
       "      <td>sea</td>\n",
       "    </tr>\n",
       "    <tr>\n",
       "      <th>14031</th>\n",
       "      <td>17331.jpg</td>\n",
       "      <td>sea</td>\n",
       "    </tr>\n",
       "    <tr>\n",
       "      <th>14032</th>\n",
       "      <td>11026.jpg</td>\n",
       "      <td>sea</td>\n",
       "    </tr>\n",
       "    <tr>\n",
       "      <th>14033</th>\n",
       "      <td>3561.jpg</td>\n",
       "      <td>sea</td>\n",
       "    </tr>\n",
       "  </tbody>\n",
       "</table>\n",
       "<p>14034 rows × 2 columns</p>\n",
       "</div>"
      ],
      "text/plain": [
       "           image   label\n",
       "0       5109.jpg  forest\n",
       "1      14621.jpg  forest\n",
       "2       6366.jpg  forest\n",
       "3       4565.jpg  forest\n",
       "4      17472.jpg  forest\n",
       "...          ...     ...\n",
       "14029   9058.jpg     sea\n",
       "14030  12249.jpg     sea\n",
       "14031  17331.jpg     sea\n",
       "14032  11026.jpg     sea\n",
       "14033   3561.jpg     sea\n",
       "\n",
       "[14034 rows x 2 columns]"
      ]
     },
     "execution_count": 6,
     "metadata": {},
     "output_type": "execute_result"
    }
   ],
   "source": [
    "df_train"
   ]
  },
  {
   "cell_type": "code",
   "execution_count": 7,
   "metadata": {},
   "outputs": [
    {
     "data": {
      "text/plain": [
       "(14034, 32, 32, 3)"
      ]
     },
     "execution_count": 7,
     "metadata": {},
     "output_type": "execute_result"
    }
   ],
   "source": [
    "X_train.shape"
   ]
  },
  {
   "cell_type": "code",
   "execution_count": 8,
   "metadata": {},
   "outputs": [
    {
     "data": {
      "text/plain": [
       "(14034,)"
      ]
     },
     "execution_count": 8,
     "metadata": {},
     "output_type": "execute_result"
    }
   ],
   "source": [
    "Y_train.shape"
   ]
  },
  {
   "attachments": {},
   "cell_type": "markdown",
   "metadata": {},
   "source": [
    "# Ejercicio 2"
   ]
  },
  {
   "cell_type": "code",
   "execution_count": 9,
   "metadata": {},
   "outputs": [
    {
     "data": {
      "image/png": "[encoded data removed]",
      "text/plain": [
       "<Figure size 640x480 with 1 Axes>"
      ]
     },
     "metadata": {},
     "output_type": "display_data"
    }
   ],
   "source": [
    "plt.imshow(X_train[8000]);"
   ]
  },
  {
   "cell_type": "code",
   "execution_count": 10,
   "metadata": {},
   "outputs": [
    {
     "data": {
      "image/png": "[encoded data removed]",
      "text/plain": [
       "<Figure size 640x480 with 1 Axes>"
      ]
     },
     "metadata": {},
     "output_type": "display_data"
    }
   ],
   "source": [
    "plt.imshow(X_train[1044]);"
   ]
  },
  {
   "cell_type": "code",
   "execution_count": 11,
   "metadata": {},
   "outputs": [
    {
     "data": {
      "image/png": "[encoded data removed]",
      "text/plain": [
       "<Figure size 640x480 with 1 Axes>"
      ]
     },
     "metadata": {},
     "output_type": "display_data"
    }
   ],
   "source": [
    "plt.imshow(X_test[1500]);"
   ]
  },
  {
   "cell_type": "code",
   "execution_count": 12,
   "metadata": {},
   "outputs": [
    {
     "data": {
      "text/plain": [
       "5"
      ]
     },
     "execution_count": 12,
     "metadata": {},
     "output_type": "execute_result"
    }
   ],
   "source": [
    "Y_train[1000]"
   ]
  },
  {
   "cell_type": "code",
   "execution_count": 13,
   "metadata": {},
   "outputs": [],
   "source": [
    "X_train, Y_train = shuffle(X_train, Y_train, random_state=42)"
   ]
  },
  {
   "attachments": {},
   "cell_type": "markdown",
   "metadata": {},
   "source": [
    "# Ejercicio 3"
   ]
  },
  {
   "cell_type": "code",
   "execution_count": 14,
   "metadata": {},
   "outputs": [
    {
     "name": "stdout",
     "output_type": "stream",
     "text": [
      "Min: 0.0\n",
      "Max: 1.0\n"
     ]
    }
   ],
   "source": [
    "X_train = X_train / 255.0\n",
    "X_test = X_test / 255.0\n",
    "\n",
    "print(\"Min:\", np.min(X_train))\n",
    "print(\"Max:\", np.max(X_train))"
   ]
  },
  {
   "attachments": {},
   "cell_type": "markdown",
   "metadata": {},
   "source": [
    "# Ejercicio 4"
   ]
  },
  {
   "cell_type": "code",
   "execution_count": 15,
   "metadata": {},
   "outputs": [],
   "source": [
    "layers = [\n",
    "    keras.layers.Conv2D(64, (3,3), activation='relu', input_shape=(32,32,3)),\n",
    "    keras.layers.MaxPooling2D(pool_size=(2,2)),\n",
    "    \n",
    "    keras.layers.Conv2D(128, (3,3), activation='relu'),\n",
    "    keras.layers.MaxPooling2D(pool_size=(2,2)),\n",
    "\n",
    "    keras.layers.Flatten(),\n",
    "    keras.layers.Dense(128, activation='relu'),\n",
    "    keras.layers.Dense(units=6, activation='softmax')\n",
    "]\n",
    "\n",
    "model = keras.models.Sequential(layers)\n",
    "\n",
    "model.compile(optimizer = \"adam\",\n",
    "             loss = \"sparse_categorical_crossentropy\",\n",
    "             metrics = [\"accuracy\"])\n",
    "\n",
    "earlystop = EarlyStopping(patience=5)"
   ]
  },
  {
   "cell_type": "code",
   "execution_count": 16,
   "metadata": {},
   "outputs": [
    {
     "name": "stdout",
     "output_type": "stream",
     "text": [
      "Model: \"sequential\"\n",
      "_________________________________________________________________\n",
      " Layer (type)                Output Shape              Param #   \n",
      "=================================================================\n",
      " conv2d (Conv2D)             (None, 30, 30, 64)        1792      \n",
      "                                                                 \n",
      " max_pooling2d (MaxPooling2D  (None, 15, 15, 64)       0         \n",
      " )                                                               \n",
      "                                                                 \n",
      " conv2d_1 (Conv2D)           (None, 13, 13, 128)       73856     \n",
      "                                                                 \n",
      " max_pooling2d_1 (MaxPooling  (None, 6, 6, 128)        0         \n",
      " 2D)                                                             \n",
      "                                                                 \n",
      " flatten (Flatten)           (None, 4608)              0         \n",
      "                                                                 \n",
      " dense (Dense)               (None, 128)               589952    \n",
      "                                                                 \n",
      " dense_1 (Dense)             (None, 6)                 774       \n",
      "                                                                 \n",
      "=================================================================\n",
      "Total params: 666,374\n",
      "Trainable params: 666,374\n",
      "Non-trainable params: 0\n",
      "_________________________________________________________________\n"
     ]
    }
   ],
   "source": [
    "model.summary()"
   ]
  },
  {
   "attachments": {},
   "cell_type": "markdown",
   "metadata": {},
   "source": [
    "# Ejercicio 5"
   ]
  },
  {
   "cell_type": "code",
   "execution_count": 17,
   "metadata": {},
   "outputs": [
    {
     "name": "stdout",
     "output_type": "stream",
     "text": [
      "Epoch 1/50\n",
      "351/351 [==============================] - 23s 62ms/step - loss: 1.0792 - accuracy: 0.5796 - val_loss: 0.9314 - val_accuracy: 0.6491\n",
      "Epoch 2/50\n",
      "351/351 [==============================] - 20s 57ms/step - loss: 0.8008 - accuracy: 0.7047 - val_loss: 0.7659 - val_accuracy: 0.7175\n",
      "Epoch 3/50\n",
      "351/351 [==============================] - 21s 60ms/step - loss: 0.6868 - accuracy: 0.7486 - val_loss: 0.6827 - val_accuracy: 0.7439\n",
      "Epoch 4/50\n",
      "351/351 [==============================] - 21s 59ms/step - loss: 0.6091 - accuracy: 0.7822 - val_loss: 0.6935 - val_accuracy: 0.7357\n",
      "Epoch 5/50\n",
      "351/351 [==============================] - 21s 59ms/step - loss: 0.5493 - accuracy: 0.8020 - val_loss: 0.6296 - val_accuracy: 0.7659\n",
      "Epoch 6/50\n",
      "351/351 [==============================] - 21s 59ms/step - loss: 0.4785 - accuracy: 0.8284 - val_loss: 0.6145 - val_accuracy: 0.7873\n",
      "Epoch 7/50\n",
      "351/351 [==============================] - 21s 59ms/step - loss: 0.4086 - accuracy: 0.8530 - val_loss: 0.6113 - val_accuracy: 0.7862\n",
      "Epoch 8/50\n",
      "351/351 [==============================] - 21s 59ms/step - loss: 0.3269 - accuracy: 0.8887 - val_loss: 0.7209 - val_accuracy: 0.7627\n",
      "Epoch 9/50\n",
      "351/351 [==============================] - 21s 60ms/step - loss: 0.2688 - accuracy: 0.9037 - val_loss: 0.6881 - val_accuracy: 0.7788\n",
      "Epoch 10/50\n",
      "351/351 [==============================] - 21s 59ms/step - loss: 0.2154 - accuracy: 0.9254 - val_loss: 0.8594 - val_accuracy: 0.7517\n",
      "Epoch 11/50\n",
      "351/351 [==============================] - 21s 59ms/step - loss: 0.1646 - accuracy: 0.9438 - val_loss: 0.7881 - val_accuracy: 0.7766\n",
      "Epoch 12/50\n",
      "351/351 [==============================] - 21s 59ms/step - loss: 0.1283 - accuracy: 0.9570 - val_loss: 0.9319 - val_accuracy: 0.7613\n"
     ]
    }
   ],
   "source": [
    "history = model.fit(X_train,\n",
    "         Y_train,\n",
    "         epochs = 50,\n",
    "         batch_size = 32,\n",
    "         callbacks = [earlystop],\n",
    "         validation_split = 0.2)"
   ]
  },
  {
   "attachments": {},
   "cell_type": "markdown",
   "metadata": {},
   "source": [
    "# Ejercicio 6"
   ]
  },
  {
   "cell_type": "code",
   "execution_count": 18,
   "metadata": {},
   "outputs": [
    {
     "data": {
      "text/html": [
       "<div>\n",
       "<style scoped>\n",
       "    .dataframe tbody tr th:only-of-type {\n",
       "        vertical-align: middle;\n",
       "    }\n",
       "\n",
       "    .dataframe tbody tr th {\n",
       "        vertical-align: top;\n",
       "    }\n",
       "\n",
       "    .dataframe thead th {\n",
       "        text-align: right;\n",
       "    }\n",
       "</style>\n",
       "<table border=\"1\" class=\"dataframe\">\n",
       "  <thead>\n",
       "    <tr style=\"text-align: right;\">\n",
       "      <th></th>\n",
       "      <th>loss</th>\n",
       "      <th>accuracy</th>\n",
       "      <th>val_loss</th>\n",
       "      <th>val_accuracy</th>\n",
       "    </tr>\n",
       "  </thead>\n",
       "  <tbody>\n",
       "    <tr>\n",
       "      <th>0</th>\n",
       "      <td>1.079165</td>\n",
       "      <td>0.579585</td>\n",
       "      <td>0.931410</td>\n",
       "      <td>0.649092</td>\n",
       "    </tr>\n",
       "    <tr>\n",
       "      <th>1</th>\n",
       "      <td>0.800834</td>\n",
       "      <td>0.704730</td>\n",
       "      <td>0.765909</td>\n",
       "      <td>0.717492</td>\n",
       "    </tr>\n",
       "    <tr>\n",
       "      <th>2</th>\n",
       "      <td>0.686784</td>\n",
       "      <td>0.748642</td>\n",
       "      <td>0.682685</td>\n",
       "      <td>0.743855</td>\n",
       "    </tr>\n",
       "    <tr>\n",
       "      <th>3</th>\n",
       "      <td>0.609103</td>\n",
       "      <td>0.782221</td>\n",
       "      <td>0.693481</td>\n",
       "      <td>0.735661</td>\n",
       "    </tr>\n",
       "    <tr>\n",
       "      <th>4</th>\n",
       "      <td>0.549348</td>\n",
       "      <td>0.801995</td>\n",
       "      <td>0.629564</td>\n",
       "      <td>0.765942</td>\n",
       "    </tr>\n",
       "    <tr>\n",
       "      <th>5</th>\n",
       "      <td>0.478506</td>\n",
       "      <td>0.828360</td>\n",
       "      <td>0.614480</td>\n",
       "      <td>0.787317</td>\n",
       "    </tr>\n",
       "    <tr>\n",
       "      <th>6</th>\n",
       "      <td>0.408589</td>\n",
       "      <td>0.853033</td>\n",
       "      <td>0.611260</td>\n",
       "      <td>0.786249</td>\n",
       "    </tr>\n",
       "    <tr>\n",
       "      <th>7</th>\n",
       "      <td>0.326944</td>\n",
       "      <td>0.888661</td>\n",
       "      <td>0.720892</td>\n",
       "      <td>0.762736</td>\n",
       "    </tr>\n",
       "    <tr>\n",
       "      <th>8</th>\n",
       "      <td>0.268799</td>\n",
       "      <td>0.903714</td>\n",
       "      <td>0.688110</td>\n",
       "      <td>0.778767</td>\n",
       "    </tr>\n",
       "    <tr>\n",
       "      <th>9</th>\n",
       "      <td>0.215441</td>\n",
       "      <td>0.925448</td>\n",
       "      <td>0.859363</td>\n",
       "      <td>0.751692</td>\n",
       "    </tr>\n",
       "    <tr>\n",
       "      <th>10</th>\n",
       "      <td>0.164572</td>\n",
       "      <td>0.943796</td>\n",
       "      <td>0.788134</td>\n",
       "      <td>0.776630</td>\n",
       "    </tr>\n",
       "    <tr>\n",
       "      <th>11</th>\n",
       "      <td>0.128303</td>\n",
       "      <td>0.956979</td>\n",
       "      <td>0.931862</td>\n",
       "      <td>0.761311</td>\n",
       "    </tr>\n",
       "  </tbody>\n",
       "</table>\n",
       "</div>"
      ],
      "text/plain": [
       "        loss  accuracy  val_loss  val_accuracy\n",
       "0   1.079165  0.579585  0.931410      0.649092\n",
       "1   0.800834  0.704730  0.765909      0.717492\n",
       "2   0.686784  0.748642  0.682685      0.743855\n",
       "3   0.609103  0.782221  0.693481      0.735661\n",
       "4   0.549348  0.801995  0.629564      0.765942\n",
       "5   0.478506  0.828360  0.614480      0.787317\n",
       "6   0.408589  0.853033  0.611260      0.786249\n",
       "7   0.326944  0.888661  0.720892      0.762736\n",
       "8   0.268799  0.903714  0.688110      0.778767\n",
       "9   0.215441  0.925448  0.859363      0.751692\n",
       "10  0.164572  0.943796  0.788134      0.776630\n",
       "11  0.128303  0.956979  0.931862      0.761311"
      ]
     },
     "execution_count": 18,
     "metadata": {},
     "output_type": "execute_result"
    }
   ],
   "source": [
    "pd.DataFrame(history.history)"
   ]
  },
  {
   "attachments": {},
   "cell_type": "markdown",
   "metadata": {},
   "source": [
    "# Ejercicio 7"
   ]
  },
  {
   "cell_type": "code",
   "execution_count": 19,
   "metadata": {},
   "outputs": [
    {
     "name": "stdout",
     "output_type": "stream",
     "text": [
      "94/94 [==============================] - 1s 12ms/step - loss: 1.0036 - accuracy: 0.7443\n"
     ]
    },
    {
     "data": {
      "text/plain": [
       "[1.0036251544952393, 0.7443333268165588]"
      ]
     },
     "execution_count": 19,
     "metadata": {},
     "output_type": "execute_result"
    }
   ],
   "source": [
    "results = model.evaluate(X_test, Y_test)\n",
    "results"
   ]
  },
  {
   "cell_type": "code",
   "execution_count": 20,
   "metadata": {},
   "outputs": [
    {
     "name": "stdout",
     "output_type": "stream",
     "text": [
      "94/94 [==============================] - 1s 12ms/step\n"
     ]
    },
    {
     "data": {
      "text/html": [
       "<div>\n",
       "<style scoped>\n",
       "    .dataframe tbody tr th:only-of-type {\n",
       "        vertical-align: middle;\n",
       "    }\n",
       "\n",
       "    .dataframe tbody tr th {\n",
       "        vertical-align: top;\n",
       "    }\n",
       "\n",
       "    .dataframe thead th {\n",
       "        text-align: right;\n",
       "    }\n",
       "</style>\n",
       "<table border=\"1\" class=\"dataframe\">\n",
       "  <thead>\n",
       "    <tr style=\"text-align: right;\">\n",
       "      <th></th>\n",
       "      <th>0</th>\n",
       "      <th>1</th>\n",
       "      <th>2</th>\n",
       "      <th>3</th>\n",
       "      <th>4</th>\n",
       "      <th>5</th>\n",
       "    </tr>\n",
       "  </thead>\n",
       "  <tbody>\n",
       "    <tr>\n",
       "      <th>0</th>\n",
       "      <td>8.139170e-08</td>\n",
       "      <td>5.074472e-07</td>\n",
       "      <td>3.118164e-08</td>\n",
       "      <td>6.693768e-09</td>\n",
       "      <td>1.464737e-10</td>\n",
       "      <td>9.999993e-01</td>\n",
       "    </tr>\n",
       "    <tr>\n",
       "      <th>1</th>\n",
       "      <td>1.535120e-10</td>\n",
       "      <td>3.115566e-09</td>\n",
       "      <td>9.405869e-06</td>\n",
       "      <td>6.096607e-10</td>\n",
       "      <td>1.165723e-08</td>\n",
       "      <td>9.999905e-01</td>\n",
       "    </tr>\n",
       "    <tr>\n",
       "      <th>2</th>\n",
       "      <td>7.039527e-08</td>\n",
       "      <td>3.405968e-05</td>\n",
       "      <td>5.477025e-05</td>\n",
       "      <td>7.404469e-06</td>\n",
       "      <td>1.642915e-06</td>\n",
       "      <td>9.999020e-01</td>\n",
       "    </tr>\n",
       "    <tr>\n",
       "      <th>3</th>\n",
       "      <td>1.310295e-05</td>\n",
       "      <td>6.209950e-05</td>\n",
       "      <td>1.740480e-05</td>\n",
       "      <td>1.769403e-03</td>\n",
       "      <td>8.690587e-06</td>\n",
       "      <td>9.981293e-01</td>\n",
       "    </tr>\n",
       "    <tr>\n",
       "      <th>4</th>\n",
       "      <td>1.393179e-07</td>\n",
       "      <td>6.183399e-08</td>\n",
       "      <td>3.801079e-05</td>\n",
       "      <td>2.183616e-06</td>\n",
       "      <td>9.091635e-08</td>\n",
       "      <td>9.999594e-01</td>\n",
       "    </tr>\n",
       "    <tr>\n",
       "      <th>...</th>\n",
       "      <td>...</td>\n",
       "      <td>...</td>\n",
       "      <td>...</td>\n",
       "      <td>...</td>\n",
       "      <td>...</td>\n",
       "      <td>...</td>\n",
       "    </tr>\n",
       "    <tr>\n",
       "      <th>2995</th>\n",
       "      <td>2.168883e-04</td>\n",
       "      <td>1.529977e-02</td>\n",
       "      <td>1.526298e-01</td>\n",
       "      <td>1.206785e-01</td>\n",
       "      <td>7.111722e-01</td>\n",
       "      <td>3.026065e-06</td>\n",
       "    </tr>\n",
       "    <tr>\n",
       "      <th>2996</th>\n",
       "      <td>2.109194e-03</td>\n",
       "      <td>3.652816e-03</td>\n",
       "      <td>1.366483e-02</td>\n",
       "      <td>6.229616e-05</td>\n",
       "      <td>9.798945e-01</td>\n",
       "      <td>6.162827e-04</td>\n",
       "    </tr>\n",
       "    <tr>\n",
       "      <th>2997</th>\n",
       "      <td>5.750601e-06</td>\n",
       "      <td>2.707913e-04</td>\n",
       "      <td>3.018679e-03</td>\n",
       "      <td>1.181500e-06</td>\n",
       "      <td>9.967036e-01</td>\n",
       "      <td>1.348131e-08</td>\n",
       "    </tr>\n",
       "    <tr>\n",
       "      <th>2998</th>\n",
       "      <td>1.063077e-02</td>\n",
       "      <td>3.047300e-03</td>\n",
       "      <td>6.914932e-02</td>\n",
       "      <td>3.496308e-04</td>\n",
       "      <td>9.168211e-01</td>\n",
       "      <td>1.805473e-06</td>\n",
       "    </tr>\n",
       "    <tr>\n",
       "      <th>2999</th>\n",
       "      <td>8.399476e-03</td>\n",
       "      <td>6.294917e-06</td>\n",
       "      <td>1.326467e-03</td>\n",
       "      <td>4.058633e-04</td>\n",
       "      <td>9.897493e-01</td>\n",
       "      <td>1.126667e-04</td>\n",
       "    </tr>\n",
       "  </tbody>\n",
       "</table>\n",
       "<p>3000 rows × 6 columns</p>\n",
       "</div>"
      ],
      "text/plain": [
       "                 0             1             2             3             4   \n",
       "0     8.139170e-08  5.074472e-07  3.118164e-08  6.693768e-09  1.464737e-10  \\\n",
       "1     1.535120e-10  3.115566e-09  9.405869e-06  6.096607e-10  1.165723e-08   \n",
       "2     7.039527e-08  3.405968e-05  5.477025e-05  7.404469e-06  1.642915e-06   \n",
       "3     1.310295e-05  6.209950e-05  1.740480e-05  1.769403e-03  8.690587e-06   \n",
       "4     1.393179e-07  6.183399e-08  3.801079e-05  2.183616e-06  9.091635e-08   \n",
       "...            ...           ...           ...           ...           ...   \n",
       "2995  2.168883e-04  1.529977e-02  1.526298e-01  1.206785e-01  7.111722e-01   \n",
       "2996  2.109194e-03  3.652816e-03  1.366483e-02  6.229616e-05  9.798945e-01   \n",
       "2997  5.750601e-06  2.707913e-04  3.018679e-03  1.181500e-06  9.967036e-01   \n",
       "2998  1.063077e-02  3.047300e-03  6.914932e-02  3.496308e-04  9.168211e-01   \n",
       "2999  8.399476e-03  6.294917e-06  1.326467e-03  4.058633e-04  9.897493e-01   \n",
       "\n",
       "                 5  \n",
       "0     9.999993e-01  \n",
       "1     9.999905e-01  \n",
       "2     9.999020e-01  \n",
       "3     9.981293e-01  \n",
       "4     9.999594e-01  \n",
       "...            ...  \n",
       "2995  3.026065e-06  \n",
       "2996  6.162827e-04  \n",
       "2997  1.348131e-08  \n",
       "2998  1.805473e-06  \n",
       "2999  1.126667e-04  \n",
       "\n",
       "[3000 rows x 6 columns]"
      ]
     },
     "execution_count": 20,
     "metadata": {},
     "output_type": "execute_result"
    }
   ],
   "source": [
    "prediction_prob = model.predict(X_test)\n",
    "pd.DataFrame(prediction_prob)"
   ]
  },
  {
   "cell_type": "code",
   "execution_count": 21,
   "metadata": {},
   "outputs": [],
   "source": [
    "prediction = np.argmax(prediction_prob, axis=1)"
   ]
  },
  {
   "cell_type": "code",
   "execution_count": 22,
   "metadata": {},
   "outputs": [
    {
     "data": {
      "text/plain": [
       "(array([0, 1, 2, 3, 4, 5]), array([550, 639, 498, 299, 565, 449]))"
      ]
     },
     "execution_count": 22,
     "metadata": {},
     "output_type": "execute_result"
    }
   ],
   "source": [
    "np.unique(prediction, return_counts = True)"
   ]
  },
  {
   "cell_type": "code",
   "execution_count": 23,
   "metadata": {},
   "outputs": [
    {
     "data": {
      "text/plain": [
       "(array([0, 1, 2, 3, 4, 5]), array([525, 501, 553, 437, 510, 474]))"
      ]
     },
     "execution_count": 23,
     "metadata": {},
     "output_type": "execute_result"
    }
   ],
   "source": [
    "np.unique(Y_test, return_counts = True)"
   ]
  },
  {
   "attachments": {},
   "cell_type": "markdown",
   "metadata": {},
   "source": [
    "# Ejercicio 8"
   ]
  },
  {
   "cell_type": "code",
   "execution_count": 24,
   "metadata": {},
   "outputs": [],
   "source": [
    "def buscar_clave(valor):\n",
    "    for clave, v in class_names_label.items():\n",
    "        if v == valor:\n",
    "            return clave"
   ]
  },
  {
   "cell_type": "code",
   "execution_count": 25,
   "metadata": {},
   "outputs": [
    {
     "name": "stdout",
     "output_type": "stream",
     "text": [
      "Clase predicha: buildings\n",
      "Clase real: forest\n"
     ]
    },
    {
     "data": {
      "image/png": "[encoded data removed]",
      "text/plain": [
       "<Figure size 640x480 with 1 Axes>"
      ]
     },
     "metadata": {},
     "output_type": "display_data"
    },
    {
     "name": "stdout",
     "output_type": "stream",
     "text": [
      "Clase predicha: street\n",
      "Clase real: forest\n"
     ]
    },
    {
     "data": {
      "image/png": "[encoded data removed]",
      "text/plain": [
       "<Figure size 640x480 with 1 Axes>"
      ]
     },
     "metadata": {},
     "output_type": "display_data"
    },
    {
     "name": "stdout",
     "output_type": "stream",
     "text": [
      "Clase predicha: street\n",
      "Clase real: forest\n"
     ]
    },
    {
     "data": {
      "image/png": "[encoded data removed]",
      "text/plain": [
       "<Figure size 640x480 with 1 Axes>"
      ]
     },
     "metadata": {},
     "output_type": "display_data"
    },
    {
     "name": "stdout",
     "output_type": "stream",
     "text": [
      "Clase predicha: sea\n",
      "Clase real: forest\n"
     ]
    },
    {
     "data": {
      "image/png": "[encoded data removed]",
      "text/plain": [
       "<Figure size 640x480 with 1 Axes>"
      ]
     },
     "metadata": {},
     "output_type": "display_data"
    },
    {
     "name": "stdout",
     "output_type": "stream",
     "text": [
      "Clase predicha: street\n",
      "Clase real: forest\n"
     ]
    },
    {
     "data": {
      "image/png": "[encoded data removed]",
      "text/plain": [
       "<Figure size 640x480 with 1 Axes>"
      ]
     },
     "metadata": {},
     "output_type": "display_data"
    }
   ],
   "source": [
    "incorrect_predictions = np.nonzero(prediction != Y_test)[0]\n",
    "for i in range(5):\n",
    "    plt.imshow(X_test[incorrect_predictions[i]])\n",
    "    print(f\"Clase predicha: {buscar_clave(prediction[incorrect_predictions[i]])}\")\n",
    "    print(f\"Clase real: {buscar_clave(Y_test[incorrect_predictions[i]])}\")\n",
    "    plt.show()"
   ]
  },
  {
   "attachments": {},
   "cell_type": "markdown",
   "metadata": {},
   "source": [
    "# Ejercicio 9"
   ]
  },
  {
   "cell_type": "code",
   "execution_count": 26,
   "metadata": {},
   "outputs": [
    {
     "data": {
      "text/plain": [
       "array([[399,   7,  56,   9,  50,   4],\n",
       "       [  4, 428,  10,  32,  16,  11],\n",
       "       [ 93,  23, 367,  12,  57,   1],\n",
       "       [ 22, 126,  15, 222,  36,  16],\n",
       "       [ 28,  15,  46,  17, 402,   2],\n",
       "       [  4,  40,   4,   7,   4, 415]])"
      ]
     },
     "execution_count": 26,
     "metadata": {},
     "output_type": "execute_result"
    }
   ],
   "source": [
    "confusion_matrix(Y_test, prediction)"
   ]
  }
 ],
 "metadata": {
  "interpreter": {
   "hash": "7c77fdb427e7cbc9bc1367dd530fc2b36aacdbbde1ac83c85833b10dfa8b831c"
  },
  "kernelspec": {
   "display_name": "Python 3.7.4 64-bit",
   "language": "python",
   "name": "python3"
  },
  "language_info": {
   "codemirror_mode": {
    "name": "ipython",
    "version": 3
   },
   "file_extension": ".py",
   "mimetype": "text/x-python",
   "name": "python",
   "nbconvert_exporter": "python",
   "pygments_lexer": "ipython3",
   "version": "3.11.1"
  },
  "orig_nbformat": 4
 },
 "nbformat": 4,
 "nbformat_minor": 2
}
