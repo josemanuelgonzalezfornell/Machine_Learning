{
 "cells": [
  {
   "attachments": {},
   "cell_type": "markdown",
   "metadata": {},
   "source": [
    "#### Aquí encontrarás todo lo que necesitas saber: https://www.kaggle.com/t/ab8726f0cfc84544abbae69a6be88071"
   ]
  },
  {
   "attachments": {},
   "cell_type": "markdown",
   "metadata": {},
   "source": [
    "## Librerias"
   ]
  },
  {
   "cell_type": "code",
   "execution_count": 9,
   "metadata": {},
   "outputs": [],
   "source": [
    "import pandas as pd\n",
    "import numpy as np\n",
    "import utils.DataBase as db\n",
    "import re\n",
    "import utils.Functions as fn\n",
    "from sklearn.model_selection import train_test_split\n",
    "from sklearn.linear_model import LinearRegression\n",
    "from sklearn.metrics import mean_squared_error\n",
    "from warnings import filterwarnings\n",
    "filterwarnings(\"ignore\")\n",
    "\n",
    "import urllib.request\n",
    "from PIL import Image"
   ]
  },
  {
   "attachments": {},
   "cell_type": "markdown",
   "metadata": {},
   "source": [
    "## Data"
   ]
  },
  {
   "cell_type": "code",
   "execution_count": 10,
   "metadata": {},
   "outputs": [],
   "source": [
    "### Para que funcione necesitas bajarte los archivos de datos de Kaggle \n",
    "train_tb = pd.read_csv(\"data/train.csv\")\n"
   ]
  },
  {
   "attachments": {},
   "cell_type": "markdown",
   "metadata": {},
   "source": [
    "## Data exploration"
   ]
  },
  {
   "cell_type": "code",
   "execution_count": 11,
   "metadata": {},
   "outputs": [
    {
     "name": "stdout",
     "output_type": "stream",
     "text": [
      "<class 'pandas.core.frame.DataFrame'>\n",
      "RangeIndex: 912 entries, 0 to 911\n",
      "Data columns (total 13 columns):\n",
      " #   Column            Non-Null Count  Dtype  \n",
      "---  ------            --------------  -----  \n",
      " 0   laptop_ID         912 non-null    int64  \n",
      " 1   Company           912 non-null    object \n",
      " 2   Product           912 non-null    object \n",
      " 3   TypeName          912 non-null    object \n",
      " 4   Inches            912 non-null    float64\n",
      " 5   ScreenResolution  912 non-null    object \n",
      " 6   Cpu               912 non-null    object \n",
      " 7   Ram               912 non-null    object \n",
      " 8   Memory            912 non-null    object \n",
      " 9   Gpu               912 non-null    object \n",
      " 10  OpSys             912 non-null    object \n",
      " 11  Weight            912 non-null    object \n",
      " 12  Price_euros       912 non-null    float64\n",
      "dtypes: float64(2), int64(1), object(10)\n",
      "memory usage: 92.8+ KB\n"
     ]
    }
   ],
   "source": [
    "train_tb.info()"
   ]
  },
  {
   "cell_type": "code",
   "execution_count": 12,
   "metadata": {},
   "outputs": [
    {
     "data": {
      "text/html": [
       "<div>\n",
       "<style scoped>\n",
       "    .dataframe tbody tr th:only-of-type {\n",
       "        vertical-align: middle;\n",
       "    }\n",
       "\n",
       "    .dataframe tbody tr th {\n",
       "        vertical-align: top;\n",
       "    }\n",
       "\n",
       "    .dataframe thead th {\n",
       "        text-align: right;\n",
       "    }\n",
       "</style>\n",
       "<table border=\"1\" class=\"dataframe\">\n",
       "  <thead>\n",
       "    <tr style=\"text-align: right;\">\n",
       "      <th></th>\n",
       "      <th>laptop_ID</th>\n",
       "      <th>Company</th>\n",
       "      <th>Product</th>\n",
       "      <th>TypeName</th>\n",
       "      <th>Inches</th>\n",
       "      <th>ScreenResolution</th>\n",
       "      <th>Cpu</th>\n",
       "      <th>Ram</th>\n",
       "      <th>Memory</th>\n",
       "      <th>Gpu</th>\n",
       "      <th>OpSys</th>\n",
       "      <th>Weight</th>\n",
       "      <th>Price_euros</th>\n",
       "    </tr>\n",
       "  </thead>\n",
       "  <tbody>\n",
       "    <tr>\n",
       "      <th>0</th>\n",
       "      <td>1104</td>\n",
       "      <td>Acer</td>\n",
       "      <td>Aspire ES1-523</td>\n",
       "      <td>Notebook</td>\n",
       "      <td>15.6</td>\n",
       "      <td>1366x768</td>\n",
       "      <td>AMD A8-Series 7410 2.2GHz</td>\n",
       "      <td>4GB</td>\n",
       "      <td>500GB HDD</td>\n",
       "      <td>AMD Radeon R5</td>\n",
       "      <td>Windows 10</td>\n",
       "      <td>2.4kg</td>\n",
       "      <td>387.0</td>\n",
       "    </tr>\n",
       "    <tr>\n",
       "      <th>1</th>\n",
       "      <td>114</td>\n",
       "      <td>Dell</td>\n",
       "      <td>XPS 13</td>\n",
       "      <td>Ultrabook</td>\n",
       "      <td>13.3</td>\n",
       "      <td>Quad HD+ / Touchscreen 3200x1800</td>\n",
       "      <td>Intel Core i7 7560U 2.4GHz</td>\n",
       "      <td>8GB</td>\n",
       "      <td>256GB SSD</td>\n",
       "      <td>Intel Iris Plus Graphics 640</td>\n",
       "      <td>Windows 10</td>\n",
       "      <td>1.23kg</td>\n",
       "      <td>1379.0</td>\n",
       "    </tr>\n",
       "    <tr>\n",
       "      <th>2</th>\n",
       "      <td>172</td>\n",
       "      <td>Acer</td>\n",
       "      <td>Aspire A517-51G</td>\n",
       "      <td>Notebook</td>\n",
       "      <td>17.3</td>\n",
       "      <td>IPS Panel Full HD 1920x1080</td>\n",
       "      <td>Intel Core i5 8250U 1.6GHz</td>\n",
       "      <td>8GB</td>\n",
       "      <td>256GB SSD</td>\n",
       "      <td>Nvidia GeForce MX150</td>\n",
       "      <td>Windows 10</td>\n",
       "      <td>3kg</td>\n",
       "      <td>854.0</td>\n",
       "    </tr>\n",
       "    <tr>\n",
       "      <th>3</th>\n",
       "      <td>918</td>\n",
       "      <td>HP</td>\n",
       "      <td>Elitebook 820</td>\n",
       "      <td>Netbook</td>\n",
       "      <td>12.5</td>\n",
       "      <td>Full HD 1920x1080</td>\n",
       "      <td>Intel Core i7 7500U 2.7GHz</td>\n",
       "      <td>8GB</td>\n",
       "      <td>512GB SSD</td>\n",
       "      <td>Intel HD Graphics 620</td>\n",
       "      <td>Windows 10</td>\n",
       "      <td>1.26kg</td>\n",
       "      <td>1483.0</td>\n",
       "    </tr>\n",
       "    <tr>\n",
       "      <th>4</th>\n",
       "      <td>447</td>\n",
       "      <td>Lenovo</td>\n",
       "      <td>IdeaPad 320-15AST</td>\n",
       "      <td>Notebook</td>\n",
       "      <td>17.3</td>\n",
       "      <td>1600x900</td>\n",
       "      <td>AMD A6-Series 9220 2.5GHz</td>\n",
       "      <td>8GB</td>\n",
       "      <td>1TB HDD</td>\n",
       "      <td>AMD Radeon R4</td>\n",
       "      <td>Windows 10</td>\n",
       "      <td>2.8kg</td>\n",
       "      <td>519.0</td>\n",
       "    </tr>\n",
       "  </tbody>\n",
       "</table>\n",
       "</div>"
      ],
      "text/plain": [
       "   laptop_ID Company            Product   TypeName  Inches  \\\n",
       "0       1104    Acer     Aspire ES1-523   Notebook    15.6   \n",
       "1        114    Dell             XPS 13  Ultrabook    13.3   \n",
       "2        172    Acer    Aspire A517-51G   Notebook    17.3   \n",
       "3        918      HP      Elitebook 820    Netbook    12.5   \n",
       "4        447  Lenovo  IdeaPad 320-15AST   Notebook    17.3   \n",
       "\n",
       "                   ScreenResolution                         Cpu  Ram  \\\n",
       "0                          1366x768   AMD A8-Series 7410 2.2GHz  4GB   \n",
       "1  Quad HD+ / Touchscreen 3200x1800  Intel Core i7 7560U 2.4GHz  8GB   \n",
       "2       IPS Panel Full HD 1920x1080  Intel Core i5 8250U 1.6GHz  8GB   \n",
       "3                 Full HD 1920x1080  Intel Core i7 7500U 2.7GHz  8GB   \n",
       "4                          1600x900   AMD A6-Series 9220 2.5GHz  8GB   \n",
       "\n",
       "      Memory                           Gpu       OpSys  Weight  Price_euros  \n",
       "0  500GB HDD                 AMD Radeon R5  Windows 10   2.4kg        387.0  \n",
       "1  256GB SSD  Intel Iris Plus Graphics 640  Windows 10  1.23kg       1379.0  \n",
       "2  256GB SSD          Nvidia GeForce MX150  Windows 10     3kg        854.0  \n",
       "3  512GB SSD         Intel HD Graphics 620  Windows 10  1.26kg       1483.0  \n",
       "4    1TB HDD                 AMD Radeon R4  Windows 10   2.8kg        519.0  "
      ]
     },
     "execution_count": 12,
     "metadata": {},
     "output_type": "execute_result"
    }
   ],
   "source": [
    "train_tb.head()"
   ]
  },
  {
   "attachments": {},
   "cell_type": "markdown",
   "metadata": {},
   "source": [
    "## Data processing"
   ]
  },
  {
   "cell_type": "code",
   "execution_count": 13,
   "metadata": {},
   "outputs": [],
   "source": [
    "# Establece la columna laptop_ID como índice\n",
    "train_tb.set_index(\"laptop_ID\", inplace=True)\n",
    "\n",
    "# Cambia el tipo de datos de la columna Company\n",
    "train_tb[\"Company\"] = train_tb[\"Company\"].astype(\"category\")\n",
    "\n",
    "# Cambia el tipo de datos de la columna TypeName\n",
    "train_tb[\"TypeName\"] = train_tb[\"TypeName\"].astype(\"category\")\n",
    "\n",
    "# Crea una nueva columna llamada Touchscreen que determina aquellos laptops que tienen Touchscreen\n",
    "train_tb[\"Touchscreen\"] = train_tb[\"ScreenResolution\"].str.contains(\n",
    "    \".*Touchscreen.*\")\n",
    "train_tb[\"Touchscreen\"] = train_tb[\"Touchscreen\"].astype(\"int\")\n",
    "\n",
    "# Cambia el tipo de datos de la columna ScreenResolution a categoría\n",
    "train_tb[\"ScreenResolution\"] = train_tb[\"ScreenResolution\"].str.split(\n",
    "    \" \").str[-1].astype(\"category\")\n",
    "\n",
    "# Crea una nueva columna llamada GHz con los GHz de la Cpu\n",
    "train_tb[\"GHz\"] = train_tb[\"Cpu\"].str.split(\n",
    "    \" \").str[-1].replace(r'(GHz)$', \"\", regex=True).astype(\"float\")\n",
    "\n",
    "# Cambia el tipo de datos de la columna Cpu y elimina los GHz\n",
    "train_tb[\"Cpu\"] = train_tb[\"Cpu\"].str.replace(\n",
    "    r'(\\d+(\\.\\d{1,2})?)GHz', \"\", regex=True).astype(\"category\")\n",
    "\n",
    "# Cambia el tipo de datos de la columna Gpu\n",
    "train_tb[\"Gpu\"] = train_tb[\"Gpu\"].astype(\"category\")\n",
    "\n",
    "# Cambia el tipo de datos de la columna Ram y elimina la unidad\n",
    "train_tb[\"Ram(GB)\"] = train_tb[\"Ram\"].str.replace(\n",
    "    r'(GB)$', \"\", regex=True).astype(\"int\")\n",
    "train_tb.drop(\"Ram\", axis=1, inplace=True)\n",
    "\n",
    "# Cambia el tipo de datos de la columna OpSys\n",
    "train_tb[\"OpSys\"] = train_tb[\"OpSys\"].astype(\"category\")\n",
    "\n",
    "# Crea una nueva columna llamada TypeMemory que determina el tipo de memoria\n",
    "TypeMemory = train_tb['Memory'].str.extract(r'\\b(HDD|SSD|Flash Storage|Hybrid)\\b(?:.*?\\b(HDD|SSD|Flash storage|Hybrid)\\b)?')\n",
    "TypeMemory.columns =[\"TypeMemory1\", \"TypeMemory2\"]\n",
    "TypeMemory[\"TypeMemory2\"].fillna(\"unknown\", inplace=True)\n",
    "TypeMemory = TypeMemory.astype(\"category\")\n",
    "train_tb = pd.concat([train_tb, TypeMemory], axis=1)\n",
    "\n",
    "\n",
    "# Cambia el tipo de datos de la columna Memory y elimina la unidad. Además aparece unicamente el número\n",
    "train_tb[\"Memory1(GB)\"] = train_tb['Memory'].str.findall(r'\\d+(?:\\.\\d+)?(?:GB|TB)?(?:\\+\\d+(?:\\.\\d+)?(?:GB|TB)?)?').str[0].str.replace(\n",
    "    r'(GB)$', \"\", regex=True).str.replace(r'(TB)$', \"000\", regex=True).str.replace('.', \"\").astype(\"int\")\n",
    "train_tb[\"Memory2(GB)\"] = train_tb['Memory'].str.findall(r'\\d+(?:\\.\\d+)?(?:GB|TB)?(?:\\+\\d+(?:\\.\\d+)?(?:GB|TB)?)?').str[1].str.replace(\n",
    "    r'(GB)$', \"\", regex=True).str.replace(r'(TB)$', \"000\", regex=True).str.replace('.', \"\").fillna(0).astype(\"int\")\n",
    "train_tb.drop(\"Memory\", axis=1, inplace=True)\n",
    "\n",
    "# Cambia el tipo de datos de la columna Weight y elimina la unidad\n",
    "train_tb[\"Weight\"] = train_tb[\"Weight\"].str.replace(\n",
    "    r'(kg)$', \"\", regex=True).astype(\"float\")\n",
    "\n",
    "# Elimina las columnas que tengan valores nulos\n",
    "train_tb.dropna(inplace=True, axis=1, how=\"all\")\n",
    "\n",
    "# Elimina la columna la columna Product porque es str\n",
    "train_tb.drop(\"Product\", axis=1, inplace=True)\n"
   ]
  },
  {
   "cell_type": "code",
   "execution_count": 14,
   "metadata": {},
   "outputs": [],
   "source": [
    "# Importamos el DataFrame\n",
    "X_pred = pd.read_csv(\"data/test.csv\")\n",
    "\n",
    "# Establece la columna laptop_ID como índice\n",
    "X_pred.set_index(\"laptop_ID\", inplace=True)\n",
    "\n",
    "# Cambia el tipo de datos de la columna Company\n",
    "X_pred[\"Company\"] = X_pred[\"Company\"].astype(\"category\")\n",
    "\n",
    "# Cambia el tipo de datos de la columna TypeName\n",
    "X_pred[\"TypeName\"] = X_pred[\"TypeName\"].astype(\"category\")\n",
    "\n",
    "# Crea una nueva columna llamada Touchscreen que determina aquellos laptops que tienen Touchscreen\n",
    "X_pred[\"Touchscreen\"] = X_pred[\"ScreenResolution\"].str.contains(\n",
    "    \".*Touchscreen.*\")\n",
    "X_pred[\"Touchscreen\"] = X_pred[\"Touchscreen\"].astype(\"int\")\n",
    "\n",
    "# Crea dos columnas con la resolución por ancho y por altura de la pantalla llamadas ScreenResolutionWidth y ScreenResolutionHeight respectivamente. Elimina la columna ScreenResolution\n",
    "X_pred[\"ScreenResolution\"] = X_pred[\"ScreenResolution\"].str.split(\n",
    "    \" \").str[-1].astype(\"category\")\n",
    "\n",
    "# Crea una nueva columna llamada GHz con los GHz de la Cpu\n",
    "X_pred[\"GHz\"] = X_pred[\"Cpu\"].str.split(\n",
    "    \" \").str[-1].replace(r'(GHz)$', \"\", regex=True).astype(\"float\")\n",
    "\n",
    "# Cambia el tipo de datos de la columna Cpu y elimina los GHz\n",
    "X_pred[\"Cpu\"] = X_pred[\"Cpu\"].str.replace(\n",
    "    r'(\\d+(\\.\\d{1,2})?)GHz', \"\", regex=True).astype(\"category\")\n",
    "\n",
    "# Cambia el tipo de datos de la columna Gpu\n",
    "X_pred[\"Gpu\"] = X_pred[\"Gpu\"].astype(\"category\")\n",
    "\n",
    "# Cambia el tipo de datos de la columna Ram y elimina la unidad\n",
    "X_pred[\"Ram(GB)\"] = X_pred[\"Ram\"].str.replace(\n",
    "    r'(GB)$', \"\", regex=True).astype(\"int\")\n",
    "X_pred.drop(\"Ram\", axis=1, inplace=True)\n",
    "\n",
    "# Cambia el tipo de datos de la columna OpSys\n",
    "X_pred[\"OpSys\"] = X_pred[\"OpSys\"].astype(\"category\")\n",
    "\n",
    "# Crea una nueva columna llamada TypeMemory que determina el tipo de memoria\n",
    "TypeMemory = X_pred['Memory'].str.extract(r'\\b(HDD|SSD|Flash Storage|Hybrid)\\b(?:.*?\\b(HDD|SSD|Flash storage|Hybrid)\\b)?')\n",
    "TypeMemory.columns =[\"TypeMemory1\", \"TypeMemory2\"]\n",
    "TypeMemory[\"TypeMemory2\"].fillna(\"unknown\", inplace=True)\n",
    "TypeMemory = TypeMemory.astype(\"category\")\n",
    "X_pred = pd.concat([X_pred, TypeMemory], axis=1)\n",
    "\n",
    "\n",
    "# Cambia el tipo de datos de la columna Memory y elimina la unidad. Además aparece unicamente el número\n",
    "X_pred[\"Memory1(GB)\"] = X_pred['Memory'].str.findall(r'\\d+(?:\\.\\d+)?(?:GB|TB)?(?:\\+\\d+(?:\\.\\d+)?(?:GB|TB)?)?').str[0].str.replace(\n",
    "    r'(GB)$', \"\", regex=True).str.replace(r'(TB)$', \"000\", regex=True).str.replace('.', \"\").astype(\"int\")\n",
    "X_pred[\"Memory2(GB)\"] = X_pred['Memory'].str.findall(r'\\d+(?:\\.\\d+)?(?:GB|TB)?(?:\\+\\d+(?:\\.\\d+)?(?:GB|TB)?)?').str[1].str.replace(\n",
    "    r'(GB)$', \"\", regex=True).str.replace(r'(TB)$', \"000\", regex=True).str.replace('.', \"\").fillna(0).astype(\"int\")\n",
    "X_pred.drop(\"Memory\", axis=1, inplace=True)\n",
    "\n",
    "# Cambia el tipo de datos de la columna Weight y elimina la unidad\n",
    "X_pred[\"Weight\"] = X_pred[\"Weight\"].str.replace(\n",
    "    r'(kg)$', \"\", regex=True).astype(\"float\")\n",
    "\n",
    "# Elimina las columnas que tengan valores nulos\n",
    "X_pred.dropna(inplace=True, axis=1, how=\"all\")\n",
    "\n",
    "# Elimina la columna la columna Product porque es str\n",
    "X_pred.drop(\"Product\", axis=1, inplace=True)"
   ]
  },
  {
   "cell_type": "code",
   "execution_count": 15,
   "metadata": {},
   "outputs": [],
   "source": [
    "# Pasamos todas las columnas categóricas a columnas numéricas por categoría\n",
    "train_tb, X_pred = fn.apply_label_encoder(train_tb, X_pred)"
   ]
  },
  {
   "attachments": {},
   "cell_type": "markdown",
   "metadata": {},
   "source": [
    "-----------------------------------------------------------------------------------------------------------------"
   ]
  },
  {
   "attachments": {},
   "cell_type": "markdown",
   "metadata": {},
   "source": [
    "## Pasos que si o si debéis realizar para poder participar en la competición:"
   ]
  },
  {
   "attachments": {},
   "cell_type": "markdown",
   "metadata": {},
   "source": [
    "### 1. Definir X e y"
   ]
  },
  {
   "cell_type": "code",
   "execution_count": 16,
   "metadata": {},
   "outputs": [
    {
     "data": {
      "text/plain": [
       "(912, 15)"
      ]
     },
     "execution_count": 16,
     "metadata": {},
     "output_type": "execute_result"
    }
   ],
   "source": [
    "X = train_tb.drop(['Price_euros'], axis=1)\n",
    "y = train_tb['Price_euros'].copy()\n",
    "X.shape"
   ]
  },
  {
   "cell_type": "code",
   "execution_count": 17,
   "metadata": {},
   "outputs": [
    {
     "data": {
      "text/plain": [
       "(912,)"
      ]
     },
     "execution_count": 17,
     "metadata": {},
     "output_type": "execute_result"
    }
   ],
   "source": [
    "y.shape"
   ]
  },
  {
   "attachments": {},
   "cell_type": "markdown",
   "metadata": {},
   "source": [
    "### 2. Dividir X_train, X_test, y_train, y_test"
   ]
  },
  {
   "cell_type": "code",
   "execution_count": 18,
   "metadata": {},
   "outputs": [],
   "source": [
    "X_train, X_test, y_train, y_test = train_test_split(X, y, test_size = 0.20, random_state = 42)"
   ]
  },
  {
   "cell_type": "code",
   "execution_count": 19,
   "metadata": {},
   "outputs": [
    {
     "data": {
      "text/html": [
       "<div>\n",
       "<style scoped>\n",
       "    .dataframe tbody tr th:only-of-type {\n",
       "        vertical-align: middle;\n",
       "    }\n",
       "\n",
       "    .dataframe tbody tr th {\n",
       "        vertical-align: top;\n",
       "    }\n",
       "\n",
       "    .dataframe thead th {\n",
       "        text-align: right;\n",
       "    }\n",
       "</style>\n",
       "<table border=\"1\" class=\"dataframe\">\n",
       "  <thead>\n",
       "    <tr style=\"text-align: right;\">\n",
       "      <th></th>\n",
       "      <th>Company</th>\n",
       "      <th>TypeName</th>\n",
       "      <th>Inches</th>\n",
       "      <th>ScreenResolution</th>\n",
       "      <th>Cpu</th>\n",
       "      <th>Gpu</th>\n",
       "      <th>OpSys</th>\n",
       "      <th>Weight</th>\n",
       "      <th>Touchscreen</th>\n",
       "      <th>GHz</th>\n",
       "      <th>Ram(GB)</th>\n",
       "      <th>TypeMemory1</th>\n",
       "      <th>TypeMemory2</th>\n",
       "      <th>Memory1(GB)</th>\n",
       "      <th>Memory2(GB)</th>\n",
       "    </tr>\n",
       "    <tr>\n",
       "      <th>laptop_ID</th>\n",
       "      <th></th>\n",
       "      <th></th>\n",
       "      <th></th>\n",
       "      <th></th>\n",
       "      <th></th>\n",
       "      <th></th>\n",
       "      <th></th>\n",
       "      <th></th>\n",
       "      <th></th>\n",
       "      <th></th>\n",
       "      <th></th>\n",
       "      <th></th>\n",
       "      <th></th>\n",
       "      <th></th>\n",
       "      <th></th>\n",
       "    </tr>\n",
       "  </thead>\n",
       "  <tbody>\n",
       "    <tr>\n",
       "      <th>26</th>\n",
       "      <td>4</td>\n",
       "      <td>3</td>\n",
       "      <td>15.6</td>\n",
       "      <td>0</td>\n",
       "      <td>47</td>\n",
       "      <td>47</td>\n",
       "      <td>5</td>\n",
       "      <td>2.30</td>\n",
       "      <td>0</td>\n",
       "      <td>2.0</td>\n",
       "      <td>4</td>\n",
       "      <td>1</td>\n",
       "      <td>3</td>\n",
       "      <td>1000</td>\n",
       "      <td>0</td>\n",
       "    </tr>\n",
       "    <tr>\n",
       "      <th>776</th>\n",
       "      <td>4</td>\n",
       "      <td>1</td>\n",
       "      <td>15.6</td>\n",
       "      <td>14</td>\n",
       "      <td>69</td>\n",
       "      <td>89</td>\n",
       "      <td>5</td>\n",
       "      <td>2.72</td>\n",
       "      <td>1</td>\n",
       "      <td>2.6</td>\n",
       "      <td>16</td>\n",
       "      <td>3</td>\n",
       "      <td>0</td>\n",
       "      <td>128</td>\n",
       "      <td>1000</td>\n",
       "    </tr>\n",
       "    <tr>\n",
       "      <th>1263</th>\n",
       "      <td>2</td>\n",
       "      <td>1</td>\n",
       "      <td>15.6</td>\n",
       "      <td>3</td>\n",
       "      <td>77</td>\n",
       "      <td>76</td>\n",
       "      <td>5</td>\n",
       "      <td>2.50</td>\n",
       "      <td>0</td>\n",
       "      <td>2.8</td>\n",
       "      <td>16</td>\n",
       "      <td>3</td>\n",
       "      <td>0</td>\n",
       "      <td>256</td>\n",
       "      <td>1000</td>\n",
       "    </tr>\n",
       "    <tr>\n",
       "      <th>182</th>\n",
       "      <td>10</td>\n",
       "      <td>3</td>\n",
       "      <td>15.6</td>\n",
       "      <td>3</td>\n",
       "      <td>57</td>\n",
       "      <td>4</td>\n",
       "      <td>5</td>\n",
       "      <td>1.90</td>\n",
       "      <td>0</td>\n",
       "      <td>2.5</td>\n",
       "      <td>8</td>\n",
       "      <td>3</td>\n",
       "      <td>0</td>\n",
       "      <td>128</td>\n",
       "      <td>1000</td>\n",
       "    </tr>\n",
       "    <tr>\n",
       "      <th>321</th>\n",
       "      <td>7</td>\n",
       "      <td>0</td>\n",
       "      <td>13.3</td>\n",
       "      <td>14</td>\n",
       "      <td>81</td>\n",
       "      <td>61</td>\n",
       "      <td>5</td>\n",
       "      <td>1.29</td>\n",
       "      <td>1</td>\n",
       "      <td>1.8</td>\n",
       "      <td>16</td>\n",
       "      <td>3</td>\n",
       "      <td>3</td>\n",
       "      <td>1000</td>\n",
       "      <td>0</td>\n",
       "    </tr>\n",
       "    <tr>\n",
       "      <th>...</th>\n",
       "      <td>...</td>\n",
       "      <td>...</td>\n",
       "      <td>...</td>\n",
       "      <td>...</td>\n",
       "      <td>...</td>\n",
       "      <td>...</td>\n",
       "      <td>...</td>\n",
       "      <td>...</td>\n",
       "      <td>...</td>\n",
       "      <td>...</td>\n",
       "      <td>...</td>\n",
       "      <td>...</td>\n",
       "      <td>...</td>\n",
       "      <td>...</td>\n",
       "      <td>...</td>\n",
       "    </tr>\n",
       "    <tr>\n",
       "      <th>394</th>\n",
       "      <td>4</td>\n",
       "      <td>5</td>\n",
       "      <td>15.6</td>\n",
       "      <td>3</td>\n",
       "      <td>71</td>\n",
       "      <td>101</td>\n",
       "      <td>5</td>\n",
       "      <td>2.00</td>\n",
       "      <td>0</td>\n",
       "      <td>2.7</td>\n",
       "      <td>8</td>\n",
       "      <td>3</td>\n",
       "      <td>3</td>\n",
       "      <td>256</td>\n",
       "      <td>0</td>\n",
       "    </tr>\n",
       "    <tr>\n",
       "      <th>441</th>\n",
       "      <td>10</td>\n",
       "      <td>3</td>\n",
       "      <td>15.6</td>\n",
       "      <td>3</td>\n",
       "      <td>79</td>\n",
       "      <td>104</td>\n",
       "      <td>5</td>\n",
       "      <td>2.50</td>\n",
       "      <td>0</td>\n",
       "      <td>2.9</td>\n",
       "      <td>16</td>\n",
       "      <td>3</td>\n",
       "      <td>3</td>\n",
       "      <td>512</td>\n",
       "      <td>0</td>\n",
       "    </tr>\n",
       "    <tr>\n",
       "      <th>955</th>\n",
       "      <td>2</td>\n",
       "      <td>3</td>\n",
       "      <td>17.3</td>\n",
       "      <td>2</td>\n",
       "      <td>87</td>\n",
       "      <td>66</td>\n",
       "      <td>5</td>\n",
       "      <td>2.80</td>\n",
       "      <td>0</td>\n",
       "      <td>1.6</td>\n",
       "      <td>4</td>\n",
       "      <td>1</td>\n",
       "      <td>3</td>\n",
       "      <td>1000</td>\n",
       "      <td>0</td>\n",
       "    </tr>\n",
       "    <tr>\n",
       "      <th>210</th>\n",
       "      <td>4</td>\n",
       "      <td>3</td>\n",
       "      <td>15.6</td>\n",
       "      <td>0</td>\n",
       "      <td>49</td>\n",
       "      <td>53</td>\n",
       "      <td>5</td>\n",
       "      <td>2.30</td>\n",
       "      <td>1</td>\n",
       "      <td>2.4</td>\n",
       "      <td>6</td>\n",
       "      <td>1</td>\n",
       "      <td>3</td>\n",
       "      <td>1000</td>\n",
       "      <td>0</td>\n",
       "    </tr>\n",
       "    <tr>\n",
       "      <th>673</th>\n",
       "      <td>16</td>\n",
       "      <td>3</td>\n",
       "      <td>15.6</td>\n",
       "      <td>0</td>\n",
       "      <td>48</td>\n",
       "      <td>47</td>\n",
       "      <td>5</td>\n",
       "      <td>2.10</td>\n",
       "      <td>0</td>\n",
       "      <td>2.1</td>\n",
       "      <td>4</td>\n",
       "      <td>3</td>\n",
       "      <td>3</td>\n",
       "      <td>128</td>\n",
       "      <td>0</td>\n",
       "    </tr>\n",
       "  </tbody>\n",
       "</table>\n",
       "<p>729 rows × 15 columns</p>\n",
       "</div>"
      ],
      "text/plain": [
       "           Company  TypeName  Inches  ScreenResolution  Cpu  Gpu  OpSys  \\\n",
       "laptop_ID                                                                 \n",
       "26               4         3    15.6                 0   47   47      5   \n",
       "776              4         1    15.6                14   69   89      5   \n",
       "1263             2         1    15.6                 3   77   76      5   \n",
       "182             10         3    15.6                 3   57    4      5   \n",
       "321              7         0    13.3                14   81   61      5   \n",
       "...            ...       ...     ...               ...  ...  ...    ...   \n",
       "394              4         5    15.6                 3   71  101      5   \n",
       "441             10         3    15.6                 3   79  104      5   \n",
       "955              2         3    17.3                 2   87   66      5   \n",
       "210              4         3    15.6                 0   49   53      5   \n",
       "673             16         3    15.6                 0   48   47      5   \n",
       "\n",
       "           Weight  Touchscreen  GHz  Ram(GB)  TypeMemory1  TypeMemory2  \\\n",
       "laptop_ID                                                                \n",
       "26           2.30            0  2.0        4            1            3   \n",
       "776          2.72            1  2.6       16            3            0   \n",
       "1263         2.50            0  2.8       16            3            0   \n",
       "182          1.90            0  2.5        8            3            0   \n",
       "321          1.29            1  1.8       16            3            3   \n",
       "...           ...          ...  ...      ...          ...          ...   \n",
       "394          2.00            0  2.7        8            3            3   \n",
       "441          2.50            0  2.9       16            3            3   \n",
       "955          2.80            0  1.6        4            1            3   \n",
       "210          2.30            1  2.4        6            1            3   \n",
       "673          2.10            0  2.1        4            3            3   \n",
       "\n",
       "           Memory1(GB)  Memory2(GB)  \n",
       "laptop_ID                            \n",
       "26                1000            0  \n",
       "776                128         1000  \n",
       "1263               256         1000  \n",
       "182                128         1000  \n",
       "321               1000            0  \n",
       "...                ...          ...  \n",
       "394                256            0  \n",
       "441                512            0  \n",
       "955               1000            0  \n",
       "210               1000            0  \n",
       "673                128            0  \n",
       "\n",
       "[729 rows x 15 columns]"
      ]
     },
     "execution_count": 19,
     "metadata": {},
     "output_type": "execute_result"
    }
   ],
   "source": [
    "X_train"
   ]
  },
  {
   "attachments": {},
   "cell_type": "markdown",
   "metadata": {},
   "source": [
    "### 3. Asignar el modelo (vacío) a una variable\n"
   ]
  },
  {
   "cell_type": "code",
   "execution_count": 20,
   "metadata": {},
   "outputs": [],
   "source": [
    "model = LinearRegression()"
   ]
  },
  {
   "cell_type": "code",
   "execution_count": 21,
   "metadata": {},
   "outputs": [
    {
     "data": {
      "text/plain": [
       "LinearRegression()"
      ]
     },
     "execution_count": 21,
     "metadata": {},
     "output_type": "execute_result"
    }
   ],
   "source": [
    "model.fit(X_train, y_train)"
   ]
  },
  {
   "cell_type": "code",
   "execution_count": 22,
   "metadata": {},
   "outputs": [
    {
     "data": {
      "text/plain": [
       "array([1308.97760347,   38.65905995,  809.70185787, 1314.3965124 ,\n",
       "       1815.4421665 ,  378.75101092,  834.68830589, 1800.9279722 ,\n",
       "        940.27228671, 1252.97917056,  906.59328886,  513.50666525,\n",
       "        162.4861034 , 1516.63103356, 1336.89461614, 1738.65777533,\n",
       "       1776.84025904,  867.66288096, 1007.95753612,  781.28421099,\n",
       "        824.93392847,  387.05571812, 1070.32359839, 1252.58694674,\n",
       "       1250.51053429,  514.79555877,  983.97621471, 1918.63709901,\n",
       "       1179.52332691,  641.17268092, 1408.06219791,  954.18992734,\n",
       "        734.53422044, 1434.8380516 , 1254.96186539,  419.55398225,\n",
       "        973.90882968, 1023.0635031 , 1261.84185746,  922.22201284,\n",
       "       1031.27748839, 1559.63602502, 1056.29354992, 2210.22917108,\n",
       "       1301.31292255,  291.98120764, 1208.16149772,  510.53890941,\n",
       "       1150.24251416,  800.57238123, 1906.2655786 , 1214.98798396,\n",
       "        297.86617258, 2032.59317437,  975.27805178, 1390.40791285,\n",
       "       1895.36630514,  983.46442703, 2125.34592317, 1721.53661118,\n",
       "        250.12536797, 1340.11539026,  763.52027222, 1333.3650531 ,\n",
       "        212.90254319,  165.51255597,  743.6217235 , 1006.96190909,\n",
       "       1310.74514915,  427.95753805,  855.11112605, 1057.34926947,\n",
       "       1535.5855343 , 1333.3650531 , 1364.56297384, 3413.98578179,\n",
       "       2202.79723261,  379.9675284 ,  979.70231753,  843.98116405,\n",
       "       1103.25399286,  857.82888399, 1865.70283015,  880.7068156 ,\n",
       "        828.71197276, 1267.76130567, 1151.21477057,  643.85292894,\n",
       "       1924.25423795,  768.42162787, 1306.89352505, 1314.89496029,\n",
       "       1506.7131887 ,  601.99191152, 1092.83878604, 1039.92983268,\n",
       "       1814.81278724,  842.45513566,  865.3046093 ,  657.04672881,\n",
       "       1244.77364417, 1137.45429511, 1234.32048643, 1189.82665361,\n",
       "       1201.2588982 ,  244.2421212 , 1076.28791072, 1173.5257357 ,\n",
       "        509.15603939,  875.19358209, 1328.61144394, 1629.75341422,\n",
       "       1329.80815827, 2260.34817035, 1413.42377757, 1791.80988726,\n",
       "        582.06191783,  851.12581184,  763.40691518, 1216.10876556,\n",
       "        254.28009166,  338.45408851, 1268.56874756,  718.89669821,\n",
       "       1058.61465678,  931.47244972, 1141.75509626, 1208.83245664,\n",
       "       1980.9930879 , 1125.31326747,  479.8628006 ,  610.90858402,\n",
       "        986.97776435, 1437.70111318, 2920.98614716, 1238.1505913 ,\n",
       "       1631.73272743, 1629.63321533, 1921.64974331, 1167.04767039,\n",
       "        796.11330381,  964.11159733,  631.29058351,  714.70120419,\n",
       "       1395.44755655,  266.52093665, 1048.55600981,  857.84102261,\n",
       "       1218.2982912 ,  934.13868719,  283.34245023, 1750.06713285,\n",
       "       1181.80275162, 1827.53712299, 1298.3225693 , 1593.76797282,\n",
       "        883.96668131, 1131.63885156, 3641.00316595, 1804.24387644,\n",
       "       1865.38879137, 1415.02347555, 2183.87790832, 1417.51697024,\n",
       "       1911.94237201,   40.56952206,  853.74530336,  937.96870706,\n",
       "        678.12884953,  780.51546375, 1345.9989327 , 1131.91212189,\n",
       "        562.93854455, 1229.18212142, 1071.44913155, 1039.92983268,\n",
       "       1265.36038641,  514.74321019, 1112.2677949 , 1084.52267322,\n",
       "        937.97436134,  576.66189148, 1235.67079852])"
      ]
     },
     "execution_count": 22,
     "metadata": {},
     "output_type": "execute_result"
    }
   ],
   "source": [
    "prediction = model.predict(X_test)\n",
    "prediction"
   ]
  },
  {
   "attachments": {},
   "cell_type": "markdown",
   "metadata": {},
   "source": [
    "### 4. Sacar métricas, valorar el modelo \n",
    "\n",
    "Recuerda que en la competición se va a evaluar con la métrica de MAE."
   ]
  },
  {
   "cell_type": "code",
   "execution_count": 23,
   "metadata": {},
   "outputs": [
    {
     "name": "stdout",
     "output_type": "stream",
     "text": [
      "RMSE: 394.7800430932667\n"
     ]
    }
   ],
   "source": [
    "print(f\"RMSE: {np.sqrt(mean_squared_error(y_test, prediction))}\")"
   ]
  },
  {
   "attachments": {},
   "cell_type": "markdown",
   "metadata": {},
   "source": [
    "-----------------------------------------------------------------"
   ]
  },
  {
   "attachments": {},
   "cell_type": "markdown",
   "metadata": {},
   "source": [
    "## Una vez listo el modelo, toca predecir con el dataset de predicción "
   ]
  },
  {
   "attachments": {},
   "cell_type": "markdown",
   "metadata": {},
   "source": [
    "Definición de **modelo que está listo**. \n",
    "\n",
    "Tras hacer suficientes pruebas, analizar los datos, hacer feature engineering, probar diferentes modelos con diferentes parámetros, es con este con el que observo mejores métricas y menos overfitting. ¡Cuidado con el overfitting aquí! Si vuestro modelo aprende muy bien de estos datos pero hay overfitting cuando le pasemos los datos desconocidos de `test.csv` nos arriesgamos a que digamos, no salga lo esperado."
   ]
  },
  {
   "attachments": {},
   "cell_type": "markdown",
   "metadata": {},
   "source": [
    "### 1. Entrena dicho modelo con TODOS tus datos de train, esto es con `train.csv` al completo.\n",
    "\n",
    "\n",
    "**CON LAS TRANSFORMACIONES QUE LE HAYAS REALIZADO A `X` INCLUÍDAS.**\n",
    "\n",
    "\n",
    "Véase:\n",
    "- Estandarización/Normalización\n",
    "- Eliminación de Outliers\n",
    "- Eliminación de columnas\n",
    "- Creación de columnas nuevas\n",
    "- Gestión de valores nulos\n",
    "- Y un largo etcétera de técnicas que como Data Scientist hayas considerado las mejores para tu dataset."
   ]
  },
  {
   "cell_type": "code",
   "execution_count": 24,
   "metadata": {},
   "outputs": [
    {
     "data": {
      "text/plain": [
       "LinearRegression()"
      ]
     },
     "execution_count": 24,
     "metadata": {},
     "output_type": "execute_result"
    }
   ],
   "source": [
    "modelo_total = LinearRegression()\n",
    "modelo_total.fit(X, y)\n"
   ]
  },
  {
   "attachments": {},
   "cell_type": "markdown",
   "metadata": {},
   "source": [
    "### 2. Carga los datos de `test.csv` para predecir."
   ]
  },
  {
   "cell_type": "code",
   "execution_count": 25,
   "metadata": {},
   "outputs": [
    {
     "data": {
      "text/html": [
       "<div>\n",
       "<style scoped>\n",
       "    .dataframe tbody tr th:only-of-type {\n",
       "        vertical-align: middle;\n",
       "    }\n",
       "\n",
       "    .dataframe tbody tr th {\n",
       "        vertical-align: top;\n",
       "    }\n",
       "\n",
       "    .dataframe thead th {\n",
       "        text-align: right;\n",
       "    }\n",
       "</style>\n",
       "<table border=\"1\" class=\"dataframe\">\n",
       "  <thead>\n",
       "    <tr style=\"text-align: right;\">\n",
       "      <th></th>\n",
       "      <th>Company</th>\n",
       "      <th>TypeName</th>\n",
       "      <th>Inches</th>\n",
       "      <th>ScreenResolution</th>\n",
       "      <th>Cpu</th>\n",
       "      <th>Gpu</th>\n",
       "      <th>OpSys</th>\n",
       "      <th>Weight</th>\n",
       "      <th>Touchscreen</th>\n",
       "      <th>GHz</th>\n",
       "      <th>Ram(GB)</th>\n",
       "      <th>TypeMemory1</th>\n",
       "      <th>TypeMemory2</th>\n",
       "      <th>Memory1(GB)</th>\n",
       "      <th>Memory2(GB)</th>\n",
       "    </tr>\n",
       "    <tr>\n",
       "      <th>laptop_ID</th>\n",
       "      <th></th>\n",
       "      <th></th>\n",
       "      <th></th>\n",
       "      <th></th>\n",
       "      <th></th>\n",
       "      <th></th>\n",
       "      <th></th>\n",
       "      <th></th>\n",
       "      <th></th>\n",
       "      <th></th>\n",
       "      <th></th>\n",
       "      <th></th>\n",
       "      <th></th>\n",
       "      <th></th>\n",
       "      <th></th>\n",
       "    </tr>\n",
       "  </thead>\n",
       "  <tbody>\n",
       "    <tr>\n",
       "      <th>750</th>\n",
       "      <td>16</td>\n",
       "      <td>3</td>\n",
       "      <td>14.0</td>\n",
       "      <td>3</td>\n",
       "      <td>57</td>\n",
       "      <td>53</td>\n",
       "      <td>5</td>\n",
       "      <td>1.25</td>\n",
       "      <td>1</td>\n",
       "      <td>2.50</td>\n",
       "      <td>8</td>\n",
       "      <td>3</td>\n",
       "      <td>3</td>\n",
       "      <td>256</td>\n",
       "      <td>0</td>\n",
       "    </tr>\n",
       "    <tr>\n",
       "      <th>726</th>\n",
       "      <td>12</td>\n",
       "      <td>3</td>\n",
       "      <td>14.0</td>\n",
       "      <td>4</td>\n",
       "      <td>25</td>\n",
       "      <td>41</td>\n",
       "      <td>5</td>\n",
       "      <td>1.40</td>\n",
       "      <td>0</td>\n",
       "      <td>1.92</td>\n",
       "      <td>4</td>\n",
       "      <td>1</td>\n",
       "      <td>3</td>\n",
       "      <td>32</td>\n",
       "      <td>0</td>\n",
       "    </tr>\n",
       "    <tr>\n",
       "      <th>633</th>\n",
       "      <td>12</td>\n",
       "      <td>3</td>\n",
       "      <td>14.0</td>\n",
       "      <td>3</td>\n",
       "      <td>27</td>\n",
       "      <td>40</td>\n",
       "      <td>5</td>\n",
       "      <td>1.40</td>\n",
       "      <td>0</td>\n",
       "      <td>1.44</td>\n",
       "      <td>2</td>\n",
       "      <td>0</td>\n",
       "      <td>3</td>\n",
       "      <td>32</td>\n",
       "      <td>0</td>\n",
       "    </tr>\n",
       "    <tr>\n",
       "      <th>363</th>\n",
       "      <td>4</td>\n",
       "      <td>1</td>\n",
       "      <td>15.6</td>\n",
       "      <td>3</td>\n",
       "      <td>58</td>\n",
       "      <td>75</td>\n",
       "      <td>5</td>\n",
       "      <td>2.65</td>\n",
       "      <td>0</td>\n",
       "      <td>2.50</td>\n",
       "      <td>8</td>\n",
       "      <td>1</td>\n",
       "      <td>3</td>\n",
       "      <td>1000</td>\n",
       "      <td>0</td>\n",
       "    </tr>\n",
       "    <tr>\n",
       "      <th>319</th>\n",
       "      <td>2</td>\n",
       "      <td>0</td>\n",
       "      <td>11.6</td>\n",
       "      <td>0</td>\n",
       "      <td>33</td>\n",
       "      <td>43</td>\n",
       "      <td>5</td>\n",
       "      <td>1.10</td>\n",
       "      <td>1</td>\n",
       "      <td>1.10</td>\n",
       "      <td>2</td>\n",
       "      <td>0</td>\n",
       "      <td>3</td>\n",
       "      <td>32</td>\n",
       "      <td>0</td>\n",
       "    </tr>\n",
       "  </tbody>\n",
       "</table>\n",
       "</div>"
      ],
      "text/plain": [
       "           Company  TypeName  Inches  ScreenResolution  Cpu  Gpu  OpSys  \\\n",
       "laptop_ID                                                                 \n",
       "750             16         3    14.0                 3   57   53      5   \n",
       "726             12         3    14.0                 4   25   41      5   \n",
       "633             12         3    14.0                 3   27   40      5   \n",
       "363              4         1    15.6                 3   58   75      5   \n",
       "319              2         0    11.6                 0   33   43      5   \n",
       "\n",
       "           Weight  Touchscreen   GHz  Ram(GB)  TypeMemory1  TypeMemory2  \\\n",
       "laptop_ID                                                                 \n",
       "750          1.25            1  2.50        8            3            3   \n",
       "726          1.40            0  1.92        4            1            3   \n",
       "633          1.40            0  1.44        2            0            3   \n",
       "363          2.65            0  2.50        8            1            3   \n",
       "319          1.10            1  1.10        2            0            3   \n",
       "\n",
       "           Memory1(GB)  Memory2(GB)  \n",
       "laptop_ID                            \n",
       "750                256            0  \n",
       "726                 32            0  \n",
       "633                 32            0  \n",
       "363               1000            0  \n",
       "319                 32            0  "
      ]
     },
     "execution_count": 25,
     "metadata": {},
     "output_type": "execute_result"
    }
   ],
   "source": [
    "# X_pred = pd.read_csv(\"data/test.csv\")\n",
    "X_pred.head()"
   ]
  },
  {
   "cell_type": "code",
   "execution_count": 26,
   "metadata": {},
   "outputs": [
    {
     "data": {
      "text/plain": [
       "(391, 15)"
      ]
     },
     "execution_count": 26,
     "metadata": {},
     "output_type": "execute_result"
    }
   ],
   "source": [
    "X_pred.shape"
   ]
  },
  {
   "cell_type": "code",
   "execution_count": 27,
   "metadata": {},
   "outputs": [
    {
     "name": "stdout",
     "output_type": "stream",
     "text": [
      "<class 'pandas.core.frame.DataFrame'>\n",
      "Int64Index: 391 entries, 750 to 924\n",
      "Data columns (total 15 columns):\n",
      " #   Column            Non-Null Count  Dtype  \n",
      "---  ------            --------------  -----  \n",
      " 0   Company           391 non-null    int64  \n",
      " 1   TypeName          391 non-null    int64  \n",
      " 2   Inches            391 non-null    float64\n",
      " 3   ScreenResolution  391 non-null    int64  \n",
      " 4   Cpu               391 non-null    int64  \n",
      " 5   Gpu               391 non-null    int64  \n",
      " 6   OpSys             391 non-null    int64  \n",
      " 7   Weight            391 non-null    float64\n",
      " 8   Touchscreen       391 non-null    int64  \n",
      " 9   GHz               391 non-null    float64\n",
      " 10  Ram(GB)           391 non-null    int64  \n",
      " 11  TypeMemory1       391 non-null    int64  \n",
      " 12  TypeMemory2       391 non-null    int64  \n",
      " 13  Memory1(GB)       391 non-null    int64  \n",
      " 14  Memory2(GB)       391 non-null    int64  \n",
      "dtypes: float64(3), int64(12)\n",
      "memory usage: 48.9 KB\n"
     ]
    }
   ],
   "source": [
    "X_pred.info()"
   ]
  },
  {
   "attachments": {},
   "cell_type": "markdown",
   "metadata": {},
   "source": [
    "**¿Por qué da error?** "
   ]
  },
  {
   "cell_type": "code",
   "execution_count": 28,
   "metadata": {},
   "outputs": [
    {
     "data": {
      "text/plain": [
       "array([ 1.36898190e+03,  6.41187724e+02,  3.46327685e+02,  1.00846461e+03,\n",
       "        1.85799586e+02,  5.98740218e+02,  4.53634616e+02,  1.77497104e+03,\n",
       "        1.83453913e+03,  1.42645965e+03,  1.03425914e+03,  1.24311516e+03,\n",
       "        1.15967494e+03,  1.02167864e+03,  6.77643872e+02,  1.04171190e+03,\n",
       "        1.12852734e+03,  1.95171319e+03,  7.04701733e+02,  1.17347529e+03,\n",
       "        1.27774493e+03,  1.24957764e+03,  4.64574737e+02,  9.61012906e+02,\n",
       "        2.99211163e+02,  1.54275353e+03,  7.19162572e+02,  1.02438526e+03,\n",
       "        5.38827470e+02,  1.41405122e+03,  1.19284947e+03,  1.27699047e+03,\n",
       "        1.09212552e+03,  1.27176390e+03,  1.48508246e+03,  1.30305610e+03,\n",
       "        1.36111056e+03,  1.50611748e+03,  9.24807271e+02,  2.02079734e+03,\n",
       "        1.79582497e+03,  1.25292415e+03,  2.07264126e+02,  1.82906191e+03,\n",
       "        1.02762740e+03,  1.98443466e+03,  7.48054926e+02,  1.79449573e+03,\n",
       "        1.07544054e+03,  1.62710420e+03,  8.39019203e+02,  3.35996703e+02,\n",
       "        9.15892683e+02,  1.12688689e+03,  5.43010093e+02,  8.58104493e+02,\n",
       "        1.18455654e+03,  1.58626360e+02,  1.23459924e+03,  1.34710192e+03,\n",
       "        6.81822251e+02,  1.59174995e+03,  1.01513711e+03,  4.32300629e+02,\n",
       "        7.55558452e+02,  8.83773763e+02,  1.67529580e+03,  1.82361460e+03,\n",
       "        9.99981064e+02,  7.17887420e+02,  2.47599437e+02,  1.60117540e+03,\n",
       "        2.90281691e+03,  1.76061621e+03,  9.17377842e+02,  1.05035629e+03,\n",
       "        6.76070367e+02,  2.17287111e+03,  4.80976956e+02,  1.37596829e+03,\n",
       "        6.63167124e+02,  1.08297380e+03,  1.22022403e+03,  1.84389918e+03,\n",
       "        1.05936389e+03,  9.97057755e+02,  7.74166528e+02,  1.00642616e+03,\n",
       "        6.61427271e+02,  9.59282402e+02,  1.87111424e+03,  8.75979012e+02,\n",
       "       -2.71165048e+01,  1.96334568e+03,  1.20869633e+03,  1.54448497e+03,\n",
       "        1.28531843e+03,  4.54767159e+02,  3.46739580e+02,  3.01944627e+02,\n",
       "        1.27805090e+03,  7.43993991e+02,  1.02709509e+03,  7.84783453e+02,\n",
       "        1.39337298e+03,  5.48294798e+02,  2.49271207e+03,  1.01742668e+03,\n",
       "        2.57015909e+03,  1.29698330e+03,  1.35697996e+03,  6.99594305e+02,\n",
       "        1.39140346e+03,  1.72576771e+03,  1.37450875e+03,  1.77579667e+03,\n",
       "        1.16450870e+03,  2.43947256e+03,  9.30165171e+02,  1.32604588e+03,\n",
       "        1.10174653e+03,  1.35906581e+03,  1.83981197e+03,  1.09562826e+03,\n",
       "        1.00114869e+03,  1.23568468e+03,  2.71047048e+02,  1.00694176e+03,\n",
       "        9.60262375e+02,  1.35797018e+03,  1.25694104e+02,  1.19208794e+03,\n",
       "        1.03745108e+03,  2.93841380e+02,  4.06696055e+02,  1.90015173e+03,\n",
       "        1.79991560e+03,  1.70652996e+03,  1.64315626e+03,  1.13175406e+03,\n",
       "        1.10806538e+03,  1.36618033e+03,  8.97365374e+02,  1.93554063e+03,\n",
       "        1.98455384e+03,  2.47560955e+02,  1.90847356e+03,  1.03745108e+03,\n",
       "        8.10793515e+02,  1.26434415e+03,  1.49234329e+03,  1.29416176e+03,\n",
       "        1.73847795e+03, -1.88950108e+00,  1.75363366e+03,  1.09981885e+03,\n",
       "        1.28408528e+03,  9.57330460e+02,  1.01043031e+03,  1.43656888e+03,\n",
       "        3.45497592e+03,  1.15962502e+03,  9.34758599e+02,  4.16556981e+02,\n",
       "        9.21442927e+02,  1.61607493e+03,  1.24338879e+03,  1.08187490e+03,\n",
       "        6.20695601e+02,  1.09617037e+03,  4.32383340e+02,  6.86216660e+02,\n",
       "        9.59899560e+02,  9.05117044e+02,  1.98870185e+03,  6.74094319e+02,\n",
       "        1.14086101e+03,  1.64240380e+03,  1.20765122e+03,  3.85552849e+02,\n",
       "        9.57273890e+02,  1.91819898e+03,  1.08311766e+03,  9.40272287e+02,\n",
       "        1.12727189e+03,  1.22712652e+03,  1.10113551e+03,  3.33138883e+02,\n",
       "        3.51127734e+02,  1.12578058e+03,  1.26309917e+03,  8.70534457e+02,\n",
       "        5.67119627e+02,  5.68979908e+02,  1.05181581e+03,  1.80613584e+03,\n",
       "        1.66699239e+03,  7.04793649e+02,  9.63051848e+02,  2.26707476e+03,\n",
       "        9.96486094e+02,  1.09088119e+03,  1.25909777e+03,  2.37161293e+03,\n",
       "        8.29379310e+02,  1.03797884e+03,  1.54366868e+03,  1.13048493e+03,\n",
       "        7.65214901e+02,  2.21331807e+02,  9.96638204e+02,  3.70121813e+02,\n",
       "        1.12578058e+03,  1.38706943e+03,  1.39854967e+03,  3.97502757e+02,\n",
       "        1.35613746e+03,  1.21389498e+03,  4.53253420e+02,  1.09155399e+03,\n",
       "        1.22594716e+02,  5.12128438e+02,  2.55376421e+02,  2.40457530e+03,\n",
       "        8.73182756e+02,  2.04617130e+03,  1.51998862e+03,  1.77753290e+03,\n",
       "        1.04846861e+03,  8.96141973e+02,  9.07244208e+02,  3.65062113e+02,\n",
       "        2.08549906e+03,  1.11964561e+03,  1.09187961e+03,  9.71233805e+02,\n",
       "        1.19000186e+03,  8.61466121e+02,  8.05023069e+02,  5.71282251e+02,\n",
       "        1.47622511e+03,  3.16823327e+02,  1.38880479e+03,  1.30198808e+03,\n",
       "        9.12383493e+02,  8.08127250e+02,  9.92397071e+02,  2.14008776e+03,\n",
       "        1.20532812e+03,  1.40111480e+03,  1.06958500e+03,  2.22857516e+03,\n",
       "        1.18676370e+03,  1.14241941e+03,  2.38571968e+02,  7.08139183e+02,\n",
       "        1.29468936e+03,  1.28822380e+03,  1.16591491e+03,  1.23432049e+03,\n",
       "        1.05398261e+03,  1.97937918e+03,  4.82489068e+02,  1.52391752e+03,\n",
       "        2.39984835e+02,  7.19991628e+02,  4.80363903e+02,  7.83224587e+01,\n",
       "        1.09009650e+03,  1.08762478e+03,  1.08311766e+03,  1.21638983e+03,\n",
       "        1.04701241e+02,  1.99276843e+02,  1.76507406e+03,  1.84277872e+03,\n",
       "        1.73767898e+03,  9.05008068e+02,  6.00682865e+02,  1.84700129e+03,\n",
       "        1.24928118e+03,  1.38161949e+03,  4.69572880e+03,  1.18982665e+03,\n",
       "        1.30251434e+03,  3.96187509e+02,  1.23385653e+03,  1.30143060e+03,\n",
       "        2.40774173e+02,  1.52009301e+03,  1.92847756e+03,  1.40144063e+03,\n",
       "        1.30131292e+03,  6.30860799e+02,  7.47628444e+02,  7.99343642e+02,\n",
       "        1.10407466e+02,  9.59282402e+02,  2.41354921e+03,  9.63787570e+02,\n",
       "        9.31413750e+01,  3.21845409e+02,  6.03835159e+02,  1.28250881e+03,\n",
       "        1.32418026e+03,  1.91606913e+03,  1.86683717e+03,  6.11706820e+02,\n",
       "        3.82234610e+02,  3.09561965e+03,  1.39149962e+03,  5.97797554e+02,\n",
       "        1.82392399e+03,  1.51493198e+03,  1.52777610e+03,  1.12754854e+03,\n",
       "        1.95217172e+03,  1.93044185e+03,  2.18387791e+03,  1.13163885e+03,\n",
       "        2.51654863e+02,  6.44935645e+02,  1.31784726e+03,  1.28820050e+03,\n",
       "        1.27282766e+03,  9.68730600e+02,  1.27324861e+03,  5.67583368e+02,\n",
       "        1.80242871e+03,  1.16818646e+03,  1.48724453e+03,  6.91700682e+02,\n",
       "        6.13983621e+02,  7.65214901e+02,  2.38374515e+02,  6.61427271e+02,\n",
       "        1.59535242e+03,  9.42463272e+02,  1.06502452e+03,  5.77371328e+02,\n",
       "        1.18285752e+03,  8.79195208e+02,  1.42905077e+02,  1.22528786e+03,\n",
       "        6.86216660e+02,  5.38962254e+02,  2.88685308e+02,  1.30408591e+03,\n",
       "        1.10262675e+03,  1.34242429e+03,  1.16818646e+03,  1.94872529e+03,\n",
       "        5.13517726e+02,  1.09742677e+03,  1.89959532e+03,  1.27213502e+03,\n",
       "        2.24496603e+02,  2.95097083e+03,  5.33792816e+02,  1.27624968e+03,\n",
       "        1.27659254e+03,  7.49510328e+02,  1.11277159e+03,  1.72576771e+03,\n",
       "        1.12217625e+03,  2.57449673e+02,  1.89323162e+02,  5.07018067e+02,\n",
       "        1.44262731e+03,  5.38661878e+02,  1.64750600e+02,  3.86640254e+02,\n",
       "        2.12075673e+03,  9.78475766e+02,  2.47560955e+02,  1.30044849e+03,\n",
       "        1.07635941e+03,  7.02456525e+02,  1.14011467e+03,  1.20081831e+03,\n",
       "        4.12259977e+02,  1.15252069e+03,  5.15868437e+02,  9.01660447e+02,\n",
       "        1.62234363e+03,  2.41852747e+03,  1.98816070e+03,  2.05944166e+03,\n",
       "        7.61311384e+02,  5.82715749e+02,  1.56857842e+03])"
      ]
     },
     "execution_count": 28,
     "metadata": {},
     "output_type": "execute_result"
    }
   ],
   "source": [
    "predictions_submit = model.predict(X_pred)\n",
    "predictions_submit"
   ]
  },
  {
   "attachments": {},
   "cell_type": "markdown",
   "metadata": {},
   "source": [
    "IMPORTANTE: APLICAR LO MISMO A ESTOS DATOS QUE HAYÁIS APLICADO A LOS DATOS DE ENTRENAMIENTO\n",
    "\n",
    "- SI EL ARRAY CON EL QUE HICISTEIS `.fit()` ERA DE 4 COLUMNAS, PARA `.predict()` DEBEN SER LAS MISMAS\n",
    "- SI AL ARRAY CON EL QUE HICISTEIS `.fit()` LO NORMALIZASTEIS, PARA `.predict()` DEBÉIS NORMALIZARLO\n",
    "- TODO IGUAL SALVO BORRAR FILAS, EL NÚMERO DE ROWS SE DEBE MANTENER EN ESTE SET, PUES LA PREDICCIÓN DEBE TENER 391 FILAS, SI O SI"
   ]
  },
  {
   "attachments": {},
   "cell_type": "markdown",
   "metadata": {},
   "source": [
    "**Entonces, si al cargar los datos de train usé `index_col=0` para que utilizara la primera columna del conjunto de datos como índice, ¿tendré que hacerlo también para el conjunto `test.csv`?**"
   ]
  },
  {
   "cell_type": "code",
   "execution_count": 29,
   "metadata": {},
   "outputs": [],
   "source": [
    "# ¿Qué opináis?\n",
    "# Sí"
   ]
  },
  {
   "attachments": {},
   "cell_type": "markdown",
   "metadata": {},
   "source": [
    "![](https://www.tierraljelechu.com/web/img/wiki_up/1.996-SorpresaDto.-1-Red.jpg)"
   ]
  },
  {
   "cell_type": "code",
   "execution_count": 30,
   "metadata": {},
   "outputs": [],
   "source": [
    "# X_pred = pd.read_csv(\"data/test.csv\", index_col=0)\n",
    "# X_pred.head()"
   ]
  },
  {
   "attachments": {},
   "cell_type": "markdown",
   "metadata": {},
   "source": [
    "### 3. AHORA puedo hacer la predicción que será lo que subirás a Kaggle. "
   ]
  },
  {
   "attachments": {},
   "cell_type": "markdown",
   "metadata": {},
   "source": [
    "**¿Qué es lo que subirás a Kaggle?**"
   ]
  },
  {
   "cell_type": "code",
   "execution_count": 31,
   "metadata": {},
   "outputs": [
    {
     "data": {
      "text/plain": [
       "array([ 1.36898190e+03,  6.41187724e+02,  3.46327685e+02,  1.00846461e+03,\n",
       "        1.85799586e+02,  5.98740218e+02,  4.53634616e+02,  1.77497104e+03,\n",
       "        1.83453913e+03,  1.42645965e+03,  1.03425914e+03,  1.24311516e+03,\n",
       "        1.15967494e+03,  1.02167864e+03,  6.77643872e+02,  1.04171190e+03,\n",
       "        1.12852734e+03,  1.95171319e+03,  7.04701733e+02,  1.17347529e+03,\n",
       "        1.27774493e+03,  1.24957764e+03,  4.64574737e+02,  9.61012906e+02,\n",
       "        2.99211163e+02,  1.54275353e+03,  7.19162572e+02,  1.02438526e+03,\n",
       "        5.38827470e+02,  1.41405122e+03,  1.19284947e+03,  1.27699047e+03,\n",
       "        1.09212552e+03,  1.27176390e+03,  1.48508246e+03,  1.30305610e+03,\n",
       "        1.36111056e+03,  1.50611748e+03,  9.24807271e+02,  2.02079734e+03,\n",
       "        1.79582497e+03,  1.25292415e+03,  2.07264126e+02,  1.82906191e+03,\n",
       "        1.02762740e+03,  1.98443466e+03,  7.48054926e+02,  1.79449573e+03,\n",
       "        1.07544054e+03,  1.62710420e+03,  8.39019203e+02,  3.35996703e+02,\n",
       "        9.15892683e+02,  1.12688689e+03,  5.43010093e+02,  8.58104493e+02,\n",
       "        1.18455654e+03,  1.58626360e+02,  1.23459924e+03,  1.34710192e+03,\n",
       "        6.81822251e+02,  1.59174995e+03,  1.01513711e+03,  4.32300629e+02,\n",
       "        7.55558452e+02,  8.83773763e+02,  1.67529580e+03,  1.82361460e+03,\n",
       "        9.99981064e+02,  7.17887420e+02,  2.47599437e+02,  1.60117540e+03,\n",
       "        2.90281691e+03,  1.76061621e+03,  9.17377842e+02,  1.05035629e+03,\n",
       "        6.76070367e+02,  2.17287111e+03,  4.80976956e+02,  1.37596829e+03,\n",
       "        6.63167124e+02,  1.08297380e+03,  1.22022403e+03,  1.84389918e+03,\n",
       "        1.05936389e+03,  9.97057755e+02,  7.74166528e+02,  1.00642616e+03,\n",
       "        6.61427271e+02,  9.59282402e+02,  1.87111424e+03,  8.75979012e+02,\n",
       "       -2.71165048e+01,  1.96334568e+03,  1.20869633e+03,  1.54448497e+03,\n",
       "        1.28531843e+03,  4.54767159e+02,  3.46739580e+02,  3.01944627e+02,\n",
       "        1.27805090e+03,  7.43993991e+02,  1.02709509e+03,  7.84783453e+02,\n",
       "        1.39337298e+03,  5.48294798e+02,  2.49271207e+03,  1.01742668e+03,\n",
       "        2.57015909e+03,  1.29698330e+03,  1.35697996e+03,  6.99594305e+02,\n",
       "        1.39140346e+03,  1.72576771e+03,  1.37450875e+03,  1.77579667e+03,\n",
       "        1.16450870e+03,  2.43947256e+03,  9.30165171e+02,  1.32604588e+03,\n",
       "        1.10174653e+03,  1.35906581e+03,  1.83981197e+03,  1.09562826e+03,\n",
       "        1.00114869e+03,  1.23568468e+03,  2.71047048e+02,  1.00694176e+03,\n",
       "        9.60262375e+02,  1.35797018e+03,  1.25694104e+02,  1.19208794e+03,\n",
       "        1.03745108e+03,  2.93841380e+02,  4.06696055e+02,  1.90015173e+03,\n",
       "        1.79991560e+03,  1.70652996e+03,  1.64315626e+03,  1.13175406e+03,\n",
       "        1.10806538e+03,  1.36618033e+03,  8.97365374e+02,  1.93554063e+03,\n",
       "        1.98455384e+03,  2.47560955e+02,  1.90847356e+03,  1.03745108e+03,\n",
       "        8.10793515e+02,  1.26434415e+03,  1.49234329e+03,  1.29416176e+03,\n",
       "        1.73847795e+03, -1.88950108e+00,  1.75363366e+03,  1.09981885e+03,\n",
       "        1.28408528e+03,  9.57330460e+02,  1.01043031e+03,  1.43656888e+03,\n",
       "        3.45497592e+03,  1.15962502e+03,  9.34758599e+02,  4.16556981e+02,\n",
       "        9.21442927e+02,  1.61607493e+03,  1.24338879e+03,  1.08187490e+03,\n",
       "        6.20695601e+02,  1.09617037e+03,  4.32383340e+02,  6.86216660e+02,\n",
       "        9.59899560e+02,  9.05117044e+02,  1.98870185e+03,  6.74094319e+02,\n",
       "        1.14086101e+03,  1.64240380e+03,  1.20765122e+03,  3.85552849e+02,\n",
       "        9.57273890e+02,  1.91819898e+03,  1.08311766e+03,  9.40272287e+02,\n",
       "        1.12727189e+03,  1.22712652e+03,  1.10113551e+03,  3.33138883e+02,\n",
       "        3.51127734e+02,  1.12578058e+03,  1.26309917e+03,  8.70534457e+02,\n",
       "        5.67119627e+02,  5.68979908e+02,  1.05181581e+03,  1.80613584e+03,\n",
       "        1.66699239e+03,  7.04793649e+02,  9.63051848e+02,  2.26707476e+03,\n",
       "        9.96486094e+02,  1.09088119e+03,  1.25909777e+03,  2.37161293e+03,\n",
       "        8.29379310e+02,  1.03797884e+03,  1.54366868e+03,  1.13048493e+03,\n",
       "        7.65214901e+02,  2.21331807e+02,  9.96638204e+02,  3.70121813e+02,\n",
       "        1.12578058e+03,  1.38706943e+03,  1.39854967e+03,  3.97502757e+02,\n",
       "        1.35613746e+03,  1.21389498e+03,  4.53253420e+02,  1.09155399e+03,\n",
       "        1.22594716e+02,  5.12128438e+02,  2.55376421e+02,  2.40457530e+03,\n",
       "        8.73182756e+02,  2.04617130e+03,  1.51998862e+03,  1.77753290e+03,\n",
       "        1.04846861e+03,  8.96141973e+02,  9.07244208e+02,  3.65062113e+02,\n",
       "        2.08549906e+03,  1.11964561e+03,  1.09187961e+03,  9.71233805e+02,\n",
       "        1.19000186e+03,  8.61466121e+02,  8.05023069e+02,  5.71282251e+02,\n",
       "        1.47622511e+03,  3.16823327e+02,  1.38880479e+03,  1.30198808e+03,\n",
       "        9.12383493e+02,  8.08127250e+02,  9.92397071e+02,  2.14008776e+03,\n",
       "        1.20532812e+03,  1.40111480e+03,  1.06958500e+03,  2.22857516e+03,\n",
       "        1.18676370e+03,  1.14241941e+03,  2.38571968e+02,  7.08139183e+02,\n",
       "        1.29468936e+03,  1.28822380e+03,  1.16591491e+03,  1.23432049e+03,\n",
       "        1.05398261e+03,  1.97937918e+03,  4.82489068e+02,  1.52391752e+03,\n",
       "        2.39984835e+02,  7.19991628e+02,  4.80363903e+02,  7.83224587e+01,\n",
       "        1.09009650e+03,  1.08762478e+03,  1.08311766e+03,  1.21638983e+03,\n",
       "        1.04701241e+02,  1.99276843e+02,  1.76507406e+03,  1.84277872e+03,\n",
       "        1.73767898e+03,  9.05008068e+02,  6.00682865e+02,  1.84700129e+03,\n",
       "        1.24928118e+03,  1.38161949e+03,  4.69572880e+03,  1.18982665e+03,\n",
       "        1.30251434e+03,  3.96187509e+02,  1.23385653e+03,  1.30143060e+03,\n",
       "        2.40774173e+02,  1.52009301e+03,  1.92847756e+03,  1.40144063e+03,\n",
       "        1.30131292e+03,  6.30860799e+02,  7.47628444e+02,  7.99343642e+02,\n",
       "        1.10407466e+02,  9.59282402e+02,  2.41354921e+03,  9.63787570e+02,\n",
       "        9.31413750e+01,  3.21845409e+02,  6.03835159e+02,  1.28250881e+03,\n",
       "        1.32418026e+03,  1.91606913e+03,  1.86683717e+03,  6.11706820e+02,\n",
       "        3.82234610e+02,  3.09561965e+03,  1.39149962e+03,  5.97797554e+02,\n",
       "        1.82392399e+03,  1.51493198e+03,  1.52777610e+03,  1.12754854e+03,\n",
       "        1.95217172e+03,  1.93044185e+03,  2.18387791e+03,  1.13163885e+03,\n",
       "        2.51654863e+02,  6.44935645e+02,  1.31784726e+03,  1.28820050e+03,\n",
       "        1.27282766e+03,  9.68730600e+02,  1.27324861e+03,  5.67583368e+02,\n",
       "        1.80242871e+03,  1.16818646e+03,  1.48724453e+03,  6.91700682e+02,\n",
       "        6.13983621e+02,  7.65214901e+02,  2.38374515e+02,  6.61427271e+02,\n",
       "        1.59535242e+03,  9.42463272e+02,  1.06502452e+03,  5.77371328e+02,\n",
       "        1.18285752e+03,  8.79195208e+02,  1.42905077e+02,  1.22528786e+03,\n",
       "        6.86216660e+02,  5.38962254e+02,  2.88685308e+02,  1.30408591e+03,\n",
       "        1.10262675e+03,  1.34242429e+03,  1.16818646e+03,  1.94872529e+03,\n",
       "        5.13517726e+02,  1.09742677e+03,  1.89959532e+03,  1.27213502e+03,\n",
       "        2.24496603e+02,  2.95097083e+03,  5.33792816e+02,  1.27624968e+03,\n",
       "        1.27659254e+03,  7.49510328e+02,  1.11277159e+03,  1.72576771e+03,\n",
       "        1.12217625e+03,  2.57449673e+02,  1.89323162e+02,  5.07018067e+02,\n",
       "        1.44262731e+03,  5.38661878e+02,  1.64750600e+02,  3.86640254e+02,\n",
       "        2.12075673e+03,  9.78475766e+02,  2.47560955e+02,  1.30044849e+03,\n",
       "        1.07635941e+03,  7.02456525e+02,  1.14011467e+03,  1.20081831e+03,\n",
       "        4.12259977e+02,  1.15252069e+03,  5.15868437e+02,  9.01660447e+02,\n",
       "        1.62234363e+03,  2.41852747e+03,  1.98816070e+03,  2.05944166e+03,\n",
       "        7.61311384e+02,  5.82715749e+02,  1.56857842e+03])"
      ]
     },
     "execution_count": 31,
     "metadata": {},
     "output_type": "execute_result"
    }
   ],
   "source": [
    "predictions_submit = model.predict(X_pred)\n",
    "predictions_submit"
   ]
  },
  {
   "attachments": {},
   "cell_type": "markdown",
   "metadata": {},
   "source": [
    "**¡PERO! Para subir a Kaggle la predicción, ésta tendrá que tener una forma específica y no valdrá otra.**\n",
    "\n",
    "En este caso, la **MISMA** forma que `sample_submission.csv`. "
   ]
  },
  {
   "cell_type": "code",
   "execution_count": 32,
   "metadata": {},
   "outputs": [],
   "source": [
    "sample = pd.read_csv(\"data/sample_submission.csv\")"
   ]
  },
  {
   "cell_type": "code",
   "execution_count": 33,
   "metadata": {},
   "outputs": [
    {
     "data": {
      "text/html": [
       "<div>\n",
       "<style scoped>\n",
       "    .dataframe tbody tr th:only-of-type {\n",
       "        vertical-align: middle;\n",
       "    }\n",
       "\n",
       "    .dataframe tbody tr th {\n",
       "        vertical-align: top;\n",
       "    }\n",
       "\n",
       "    .dataframe thead th {\n",
       "        text-align: right;\n",
       "    }\n",
       "</style>\n",
       "<table border=\"1\" class=\"dataframe\">\n",
       "  <thead>\n",
       "    <tr style=\"text-align: right;\">\n",
       "      <th></th>\n",
       "      <th>laptop_ID</th>\n",
       "      <th>Price_euros</th>\n",
       "    </tr>\n",
       "  </thead>\n",
       "  <tbody>\n",
       "    <tr>\n",
       "      <th>0</th>\n",
       "      <td>750</td>\n",
       "      <td>500</td>\n",
       "    </tr>\n",
       "    <tr>\n",
       "      <th>1</th>\n",
       "      <td>726</td>\n",
       "      <td>500</td>\n",
       "    </tr>\n",
       "    <tr>\n",
       "      <th>2</th>\n",
       "      <td>633</td>\n",
       "      <td>500</td>\n",
       "    </tr>\n",
       "    <tr>\n",
       "      <th>3</th>\n",
       "      <td>363</td>\n",
       "      <td>650</td>\n",
       "    </tr>\n",
       "    <tr>\n",
       "      <th>4</th>\n",
       "      <td>319</td>\n",
       "      <td>650</td>\n",
       "    </tr>\n",
       "  </tbody>\n",
       "</table>\n",
       "</div>"
      ],
      "text/plain": [
       "   laptop_ID  Price_euros\n",
       "0        750          500\n",
       "1        726          500\n",
       "2        633          500\n",
       "3        363          650\n",
       "4        319          650"
      ]
     },
     "execution_count": 33,
     "metadata": {},
     "output_type": "execute_result"
    }
   ],
   "source": [
    "sample.head()"
   ]
  },
  {
   "cell_type": "code",
   "execution_count": 34,
   "metadata": {},
   "outputs": [
    {
     "data": {
      "text/plain": [
       "(391, 2)"
      ]
     },
     "execution_count": 34,
     "metadata": {},
     "output_type": "execute_result"
    }
   ],
   "source": [
    "sample.shape"
   ]
  },
  {
   "attachments": {},
   "cell_type": "markdown",
   "metadata": {},
   "source": [
    "### 4. Mete tus predicciones en un dataframe. \n",
    "\n",
    "En este caso, la **MISMA** forma que `sample_submission.csv`. "
   ]
  },
  {
   "cell_type": "code",
   "execution_count": 35,
   "metadata": {},
   "outputs": [],
   "source": [
    "submission = pd.DataFrame({\"laptop_ID\": sample[\"laptop_ID\"], \"Price_euros\": predictions_submit})"
   ]
  },
  {
   "cell_type": "code",
   "execution_count": 36,
   "metadata": {},
   "outputs": [
    {
     "data": {
      "text/html": [
       "<div>\n",
       "<style scoped>\n",
       "    .dataframe tbody tr th:only-of-type {\n",
       "        vertical-align: middle;\n",
       "    }\n",
       "\n",
       "    .dataframe tbody tr th {\n",
       "        vertical-align: top;\n",
       "    }\n",
       "\n",
       "    .dataframe thead th {\n",
       "        text-align: right;\n",
       "    }\n",
       "</style>\n",
       "<table border=\"1\" class=\"dataframe\">\n",
       "  <thead>\n",
       "    <tr style=\"text-align: right;\">\n",
       "      <th></th>\n",
       "      <th>laptop_ID</th>\n",
       "      <th>Price_euros</th>\n",
       "    </tr>\n",
       "  </thead>\n",
       "  <tbody>\n",
       "    <tr>\n",
       "      <th>0</th>\n",
       "      <td>750</td>\n",
       "      <td>1368.981898</td>\n",
       "    </tr>\n",
       "    <tr>\n",
       "      <th>1</th>\n",
       "      <td>726</td>\n",
       "      <td>641.187724</td>\n",
       "    </tr>\n",
       "    <tr>\n",
       "      <th>2</th>\n",
       "      <td>633</td>\n",
       "      <td>346.327685</td>\n",
       "    </tr>\n",
       "    <tr>\n",
       "      <th>3</th>\n",
       "      <td>363</td>\n",
       "      <td>1008.464613</td>\n",
       "    </tr>\n",
       "    <tr>\n",
       "      <th>4</th>\n",
       "      <td>319</td>\n",
       "      <td>185.799586</td>\n",
       "    </tr>\n",
       "  </tbody>\n",
       "</table>\n",
       "</div>"
      ],
      "text/plain": [
       "   laptop_ID  Price_euros\n",
       "0        750  1368.981898\n",
       "1        726   641.187724\n",
       "2        633   346.327685\n",
       "3        363  1008.464613\n",
       "4        319   185.799586"
      ]
     },
     "execution_count": 36,
     "metadata": {},
     "output_type": "execute_result"
    }
   ],
   "source": [
    "submission.head()"
   ]
  },
  {
   "cell_type": "code",
   "execution_count": 37,
   "metadata": {},
   "outputs": [
    {
     "data": {
      "text/plain": [
       "(391, 2)"
      ]
     },
     "execution_count": 37,
     "metadata": {},
     "output_type": "execute_result"
    }
   ],
   "source": [
    "submission.shape"
   ]
  },
  {
   "attachments": {},
   "cell_type": "markdown",
   "metadata": {},
   "source": [
    "### 5. Pásale el CHEQUEATOR para comprobar que efectivamente está listo para subir a Kaggle."
   ]
  },
  {
   "cell_type": "code",
   "execution_count": 38,
   "metadata": {},
   "outputs": [],
   "source": [
    "def chequeator(df_to_submit):\n",
    "    \"\"\"\n",
    "    Esta función se asegura de que tu submission tenga la forma requerida por Kaggle.\n",
    "    \n",
    "    Si es así, se guardará el dataframe en un `csv` y estará listo para subir a Kaggle.\n",
    "    \n",
    "    Si no, LEE EL MENSAJE Y HAZLE CASO.\n",
    "    \n",
    "    Si aún no:\n",
    "    - apaga tu ordenador, \n",
    "    - date una vuelta, \n",
    "    - enciendelo otra vez, \n",
    "    - abre este notebook y \n",
    "    - leelo todo de nuevo. \n",
    "    Todos nos merecemos una segunda oportunidad. También tú.\n",
    "    \"\"\"\n",
    "    if df_to_submit.shape == sample.shape:\n",
    "        if df_to_submit.columns.all() == sample.columns.all():\n",
    "            if df_to_submit.laptop_ID.all() == sample.laptop_ID.all():\n",
    "                print(\"You're ready to submit!\")\n",
    "                submission.to_csv(\"submission.csv\", index = False) #muy importante el index = False\n",
    "                urllib.request.urlretrieve(\"https://i.kym-cdn.com/photos/images/facebook/000/747/556/27a.jpg\", \"gfg.png\")     \n",
    "                img = Image.open(\"gfg.png\")\n",
    "                img.show()   \n",
    "            else:\n",
    "                print(\"Check the ids and try again\")\n",
    "        else:\n",
    "            print(\"Check the names of the columns and try again\")\n",
    "    else:\n",
    "        print(\"Check the number of rows and/or columns and try again\")\n",
    "        print(\"\\nMensaje secreto de Clara: No me puedo creer que después de todo este notebook hayas hecho algún cambio en las filas de `diamonds_test.csv`. Lloro.\")\n"
   ]
  },
  {
   "cell_type": "code",
   "execution_count": 39,
   "metadata": {},
   "outputs": [
    {
     "name": "stdout",
     "output_type": "stream",
     "text": [
      "You're ready to submit!\n"
     ]
    },
    {
     "ename": "URLError",
     "evalue": "<urlopen error [SSL: CERTIFICATE_VERIFY_FAILED] certificate verify failed: unable to get local issuer certificate (_ssl.c:1076)>",
     "output_type": "error",
     "traceback": [
      "\u001b[0;31m---------------------------------------------------------------------------\u001b[0m",
      "\u001b[0;31mSSLCertVerificationError\u001b[0m                  Traceback (most recent call last)",
      "\u001b[0;32m/Library/Frameworks/Python.framework/Versions/3.7/lib/python3.7/urllib/request.py\u001b[0m in \u001b[0;36mdo_open\u001b[0;34m(self, http_class, req, **http_conn_args)\u001b[0m\n\u001b[1;32m   1316\u001b[0m                 h.request(req.get_method(), req.selector, req.data, headers,\n\u001b[0;32m-> 1317\u001b[0;31m                           encode_chunked=req.has_header('Transfer-encoding'))\n\u001b[0m\u001b[1;32m   1318\u001b[0m             \u001b[0;32mexcept\u001b[0m \u001b[0mOSError\u001b[0m \u001b[0;32mas\u001b[0m \u001b[0merr\u001b[0m\u001b[0;34m:\u001b[0m \u001b[0;31m# timeout error\u001b[0m\u001b[0;34m\u001b[0m\u001b[0;34m\u001b[0m\u001b[0m\n",
      "\u001b[0;32m/Library/Frameworks/Python.framework/Versions/3.7/lib/python3.7/http/client.py\u001b[0m in \u001b[0;36mrequest\u001b[0;34m(self, method, url, body, headers, encode_chunked)\u001b[0m\n\u001b[1;32m   1243\u001b[0m         \u001b[0;34m\"\"\"Send a complete request to the server.\"\"\"\u001b[0m\u001b[0;34m\u001b[0m\u001b[0;34m\u001b[0m\u001b[0m\n\u001b[0;32m-> 1244\u001b[0;31m         \u001b[0mself\u001b[0m\u001b[0;34m.\u001b[0m\u001b[0m_send_request\u001b[0m\u001b[0;34m(\u001b[0m\u001b[0mmethod\u001b[0m\u001b[0;34m,\u001b[0m \u001b[0murl\u001b[0m\u001b[0;34m,\u001b[0m \u001b[0mbody\u001b[0m\u001b[0;34m,\u001b[0m \u001b[0mheaders\u001b[0m\u001b[0;34m,\u001b[0m \u001b[0mencode_chunked\u001b[0m\u001b[0;34m)\u001b[0m\u001b[0;34m\u001b[0m\u001b[0;34m\u001b[0m\u001b[0m\n\u001b[0m\u001b[1;32m   1245\u001b[0m \u001b[0;34m\u001b[0m\u001b[0m\n",
      "\u001b[0;32m/Library/Frameworks/Python.framework/Versions/3.7/lib/python3.7/http/client.py\u001b[0m in \u001b[0;36m_send_request\u001b[0;34m(self, method, url, body, headers, encode_chunked)\u001b[0m\n\u001b[1;32m   1289\u001b[0m             \u001b[0mbody\u001b[0m \u001b[0;34m=\u001b[0m \u001b[0m_encode\u001b[0m\u001b[0;34m(\u001b[0m\u001b[0mbody\u001b[0m\u001b[0;34m,\u001b[0m \u001b[0;34m'body'\u001b[0m\u001b[0;34m)\u001b[0m\u001b[0;34m\u001b[0m\u001b[0;34m\u001b[0m\u001b[0m\n\u001b[0;32m-> 1290\u001b[0;31m         \u001b[0mself\u001b[0m\u001b[0;34m.\u001b[0m\u001b[0mendheaders\u001b[0m\u001b[0;34m(\u001b[0m\u001b[0mbody\u001b[0m\u001b[0;34m,\u001b[0m \u001b[0mencode_chunked\u001b[0m\u001b[0;34m=\u001b[0m\u001b[0mencode_chunked\u001b[0m\u001b[0;34m)\u001b[0m\u001b[0;34m\u001b[0m\u001b[0;34m\u001b[0m\u001b[0m\n\u001b[0m\u001b[1;32m   1291\u001b[0m \u001b[0;34m\u001b[0m\u001b[0m\n",
      "\u001b[0;32m/Library/Frameworks/Python.framework/Versions/3.7/lib/python3.7/http/client.py\u001b[0m in \u001b[0;36mendheaders\u001b[0;34m(self, message_body, encode_chunked)\u001b[0m\n\u001b[1;32m   1238\u001b[0m             \u001b[0;32mraise\u001b[0m \u001b[0mCannotSendHeader\u001b[0m\u001b[0;34m(\u001b[0m\u001b[0;34m)\u001b[0m\u001b[0;34m\u001b[0m\u001b[0;34m\u001b[0m\u001b[0m\n\u001b[0;32m-> 1239\u001b[0;31m         \u001b[0mself\u001b[0m\u001b[0;34m.\u001b[0m\u001b[0m_send_output\u001b[0m\u001b[0;34m(\u001b[0m\u001b[0mmessage_body\u001b[0m\u001b[0;34m,\u001b[0m \u001b[0mencode_chunked\u001b[0m\u001b[0;34m=\u001b[0m\u001b[0mencode_chunked\u001b[0m\u001b[0;34m)\u001b[0m\u001b[0;34m\u001b[0m\u001b[0;34m\u001b[0m\u001b[0m\n\u001b[0m\u001b[1;32m   1240\u001b[0m \u001b[0;34m\u001b[0m\u001b[0m\n",
      "\u001b[0;32m/Library/Frameworks/Python.framework/Versions/3.7/lib/python3.7/http/client.py\u001b[0m in \u001b[0;36m_send_output\u001b[0;34m(self, message_body, encode_chunked)\u001b[0m\n\u001b[1;32m   1025\u001b[0m         \u001b[0;32mdel\u001b[0m \u001b[0mself\u001b[0m\u001b[0;34m.\u001b[0m\u001b[0m_buffer\u001b[0m\u001b[0;34m[\u001b[0m\u001b[0;34m:\u001b[0m\u001b[0;34m]\u001b[0m\u001b[0;34m\u001b[0m\u001b[0;34m\u001b[0m\u001b[0m\n\u001b[0;32m-> 1026\u001b[0;31m         \u001b[0mself\u001b[0m\u001b[0;34m.\u001b[0m\u001b[0msend\u001b[0m\u001b[0;34m(\u001b[0m\u001b[0mmsg\u001b[0m\u001b[0;34m)\u001b[0m\u001b[0;34m\u001b[0m\u001b[0;34m\u001b[0m\u001b[0m\n\u001b[0m\u001b[1;32m   1027\u001b[0m \u001b[0;34m\u001b[0m\u001b[0m\n",
      "\u001b[0;32m/Library/Frameworks/Python.framework/Versions/3.7/lib/python3.7/http/client.py\u001b[0m in \u001b[0;36msend\u001b[0;34m(self, data)\u001b[0m\n\u001b[1;32m    965\u001b[0m             \u001b[0;32mif\u001b[0m \u001b[0mself\u001b[0m\u001b[0;34m.\u001b[0m\u001b[0mauto_open\u001b[0m\u001b[0;34m:\u001b[0m\u001b[0;34m\u001b[0m\u001b[0;34m\u001b[0m\u001b[0m\n\u001b[0;32m--> 966\u001b[0;31m                 \u001b[0mself\u001b[0m\u001b[0;34m.\u001b[0m\u001b[0mconnect\u001b[0m\u001b[0;34m(\u001b[0m\u001b[0;34m)\u001b[0m\u001b[0;34m\u001b[0m\u001b[0;34m\u001b[0m\u001b[0m\n\u001b[0m\u001b[1;32m    967\u001b[0m             \u001b[0;32melse\u001b[0m\u001b[0;34m:\u001b[0m\u001b[0;34m\u001b[0m\u001b[0;34m\u001b[0m\u001b[0m\n",
      "\u001b[0;32m/Library/Frameworks/Python.framework/Versions/3.7/lib/python3.7/http/client.py\u001b[0m in \u001b[0;36mconnect\u001b[0;34m(self)\u001b[0m\n\u001b[1;32m   1413\u001b[0m             self.sock = self._context.wrap_socket(self.sock,\n\u001b[0;32m-> 1414\u001b[0;31m                                                   server_hostname=server_hostname)\n\u001b[0m\u001b[1;32m   1415\u001b[0m \u001b[0;34m\u001b[0m\u001b[0m\n",
      "\u001b[0;32m/Library/Frameworks/Python.framework/Versions/3.7/lib/python3.7/ssl.py\u001b[0m in \u001b[0;36mwrap_socket\u001b[0;34m(self, sock, server_side, do_handshake_on_connect, suppress_ragged_eofs, server_hostname, session)\u001b[0m\n\u001b[1;32m    422\u001b[0m             \u001b[0mcontext\u001b[0m\u001b[0;34m=\u001b[0m\u001b[0mself\u001b[0m\u001b[0;34m,\u001b[0m\u001b[0;34m\u001b[0m\u001b[0;34m\u001b[0m\u001b[0m\n\u001b[0;32m--> 423\u001b[0;31m             \u001b[0msession\u001b[0m\u001b[0;34m=\u001b[0m\u001b[0msession\u001b[0m\u001b[0;34m\u001b[0m\u001b[0;34m\u001b[0m\u001b[0m\n\u001b[0m\u001b[1;32m    424\u001b[0m         )\n",
      "\u001b[0;32m/Library/Frameworks/Python.framework/Versions/3.7/lib/python3.7/ssl.py\u001b[0m in \u001b[0;36m_create\u001b[0;34m(cls, sock, server_side, do_handshake_on_connect, suppress_ragged_eofs, server_hostname, context, session)\u001b[0m\n\u001b[1;32m    869\u001b[0m                         \u001b[0;32mraise\u001b[0m \u001b[0mValueError\u001b[0m\u001b[0;34m(\u001b[0m\u001b[0;34m\"do_handshake_on_connect should not be specified for non-blocking sockets\"\u001b[0m\u001b[0;34m)\u001b[0m\u001b[0;34m\u001b[0m\u001b[0;34m\u001b[0m\u001b[0m\n\u001b[0;32m--> 870\u001b[0;31m                     \u001b[0mself\u001b[0m\u001b[0;34m.\u001b[0m\u001b[0mdo_handshake\u001b[0m\u001b[0;34m(\u001b[0m\u001b[0;34m)\u001b[0m\u001b[0;34m\u001b[0m\u001b[0;34m\u001b[0m\u001b[0m\n\u001b[0m\u001b[1;32m    871\u001b[0m             \u001b[0;32mexcept\u001b[0m \u001b[0;34m(\u001b[0m\u001b[0mOSError\u001b[0m\u001b[0;34m,\u001b[0m \u001b[0mValueError\u001b[0m\u001b[0;34m)\u001b[0m\u001b[0;34m:\u001b[0m\u001b[0;34m\u001b[0m\u001b[0;34m\u001b[0m\u001b[0m\n",
      "\u001b[0;32m/Library/Frameworks/Python.framework/Versions/3.7/lib/python3.7/ssl.py\u001b[0m in \u001b[0;36mdo_handshake\u001b[0;34m(self, block)\u001b[0m\n\u001b[1;32m   1138\u001b[0m                 \u001b[0mself\u001b[0m\u001b[0;34m.\u001b[0m\u001b[0msettimeout\u001b[0m\u001b[0;34m(\u001b[0m\u001b[0;32mNone\u001b[0m\u001b[0;34m)\u001b[0m\u001b[0;34m\u001b[0m\u001b[0;34m\u001b[0m\u001b[0m\n\u001b[0;32m-> 1139\u001b[0;31m             \u001b[0mself\u001b[0m\u001b[0;34m.\u001b[0m\u001b[0m_sslobj\u001b[0m\u001b[0;34m.\u001b[0m\u001b[0mdo_handshake\u001b[0m\u001b[0;34m(\u001b[0m\u001b[0;34m)\u001b[0m\u001b[0;34m\u001b[0m\u001b[0;34m\u001b[0m\u001b[0m\n\u001b[0m\u001b[1;32m   1140\u001b[0m         \u001b[0;32mfinally\u001b[0m\u001b[0;34m:\u001b[0m\u001b[0;34m\u001b[0m\u001b[0;34m\u001b[0m\u001b[0m\n",
      "\u001b[0;31mSSLCertVerificationError\u001b[0m: [SSL: CERTIFICATE_VERIFY_FAILED] certificate verify failed: unable to get local issuer certificate (_ssl.c:1076)",
      "\nDuring handling of the above exception, another exception occurred:\n",
      "\u001b[0;31mURLError\u001b[0m                                  Traceback (most recent call last)",
      "\u001b[0;32m/var/folders/r1/hd_91nzn1yb8kh1vq1c7gt2w0000gn/T/ipykernel_3016/2544742990.py\u001b[0m in \u001b[0;36m<module>\u001b[0;34m\u001b[0m\n\u001b[0;32m----> 1\u001b[0;31m \u001b[0mchequeator\u001b[0m\u001b[0;34m(\u001b[0m\u001b[0msubmission\u001b[0m\u001b[0;34m)\u001b[0m\u001b[0;34m\u001b[0m\u001b[0;34m\u001b[0m\u001b[0m\n\u001b[0m",
      "\u001b[0;32m/var/folders/r1/hd_91nzn1yb8kh1vq1c7gt2w0000gn/T/ipykernel_3016/1256445559.py\u001b[0m in \u001b[0;36mchequeator\u001b[0;34m(df_to_submit)\u001b[0m\n\u001b[1;32m     20\u001b[0m                 \u001b[0mprint\u001b[0m\u001b[0;34m(\u001b[0m\u001b[0;34m\"You're ready to submit!\"\u001b[0m\u001b[0;34m)\u001b[0m\u001b[0;34m\u001b[0m\u001b[0;34m\u001b[0m\u001b[0m\n\u001b[1;32m     21\u001b[0m                 \u001b[0msubmission\u001b[0m\u001b[0;34m.\u001b[0m\u001b[0mto_csv\u001b[0m\u001b[0;34m(\u001b[0m\u001b[0;34m\"submission.csv\"\u001b[0m\u001b[0;34m,\u001b[0m \u001b[0mindex\u001b[0m \u001b[0;34m=\u001b[0m \u001b[0;32mFalse\u001b[0m\u001b[0;34m)\u001b[0m \u001b[0;31m#muy importante el index = False\u001b[0m\u001b[0;34m\u001b[0m\u001b[0;34m\u001b[0m\u001b[0m\n\u001b[0;32m---> 22\u001b[0;31m                 \u001b[0murllib\u001b[0m\u001b[0;34m.\u001b[0m\u001b[0mrequest\u001b[0m\u001b[0;34m.\u001b[0m\u001b[0murlretrieve\u001b[0m\u001b[0;34m(\u001b[0m\u001b[0;34m\"https://i.kym-cdn.com/photos/images/facebook/000/747/556/27a.jpg\"\u001b[0m\u001b[0;34m,\u001b[0m \u001b[0;34m\"gfg.png\"\u001b[0m\u001b[0;34m)\u001b[0m\u001b[0;34m\u001b[0m\u001b[0;34m\u001b[0m\u001b[0m\n\u001b[0m\u001b[1;32m     23\u001b[0m                 \u001b[0mimg\u001b[0m \u001b[0;34m=\u001b[0m \u001b[0mImage\u001b[0m\u001b[0;34m.\u001b[0m\u001b[0mopen\u001b[0m\u001b[0;34m(\u001b[0m\u001b[0;34m\"gfg.png\"\u001b[0m\u001b[0;34m)\u001b[0m\u001b[0;34m\u001b[0m\u001b[0;34m\u001b[0m\u001b[0m\n\u001b[1;32m     24\u001b[0m                 \u001b[0mimg\u001b[0m\u001b[0;34m.\u001b[0m\u001b[0mshow\u001b[0m\u001b[0;34m(\u001b[0m\u001b[0;34m)\u001b[0m\u001b[0;34m\u001b[0m\u001b[0;34m\u001b[0m\u001b[0m\n",
      "\u001b[0;32m/Library/Frameworks/Python.framework/Versions/3.7/lib/python3.7/urllib/request.py\u001b[0m in \u001b[0;36murlretrieve\u001b[0;34m(url, filename, reporthook, data)\u001b[0m\n\u001b[1;32m    245\u001b[0m     \u001b[0murl_type\u001b[0m\u001b[0;34m,\u001b[0m \u001b[0mpath\u001b[0m \u001b[0;34m=\u001b[0m \u001b[0msplittype\u001b[0m\u001b[0;34m(\u001b[0m\u001b[0murl\u001b[0m\u001b[0;34m)\u001b[0m\u001b[0;34m\u001b[0m\u001b[0;34m\u001b[0m\u001b[0m\n\u001b[1;32m    246\u001b[0m \u001b[0;34m\u001b[0m\u001b[0m\n\u001b[0;32m--> 247\u001b[0;31m     \u001b[0;32mwith\u001b[0m \u001b[0mcontextlib\u001b[0m\u001b[0;34m.\u001b[0m\u001b[0mclosing\u001b[0m\u001b[0;34m(\u001b[0m\u001b[0murlopen\u001b[0m\u001b[0;34m(\u001b[0m\u001b[0murl\u001b[0m\u001b[0;34m,\u001b[0m \u001b[0mdata\u001b[0m\u001b[0;34m)\u001b[0m\u001b[0;34m)\u001b[0m \u001b[0;32mas\u001b[0m \u001b[0mfp\u001b[0m\u001b[0;34m:\u001b[0m\u001b[0;34m\u001b[0m\u001b[0;34m\u001b[0m\u001b[0m\n\u001b[0m\u001b[1;32m    248\u001b[0m         \u001b[0mheaders\u001b[0m \u001b[0;34m=\u001b[0m \u001b[0mfp\u001b[0m\u001b[0;34m.\u001b[0m\u001b[0minfo\u001b[0m\u001b[0;34m(\u001b[0m\u001b[0;34m)\u001b[0m\u001b[0;34m\u001b[0m\u001b[0;34m\u001b[0m\u001b[0m\n\u001b[1;32m    249\u001b[0m \u001b[0;34m\u001b[0m\u001b[0m\n",
      "\u001b[0;32m/Library/Frameworks/Python.framework/Versions/3.7/lib/python3.7/urllib/request.py\u001b[0m in \u001b[0;36murlopen\u001b[0;34m(url, data, timeout, cafile, capath, cadefault, context)\u001b[0m\n\u001b[1;32m    220\u001b[0m     \u001b[0;32melse\u001b[0m\u001b[0;34m:\u001b[0m\u001b[0;34m\u001b[0m\u001b[0;34m\u001b[0m\u001b[0m\n\u001b[1;32m    221\u001b[0m         \u001b[0mopener\u001b[0m \u001b[0;34m=\u001b[0m \u001b[0m_opener\u001b[0m\u001b[0;34m\u001b[0m\u001b[0;34m\u001b[0m\u001b[0m\n\u001b[0;32m--> 222\u001b[0;31m     \u001b[0;32mreturn\u001b[0m \u001b[0mopener\u001b[0m\u001b[0;34m.\u001b[0m\u001b[0mopen\u001b[0m\u001b[0;34m(\u001b[0m\u001b[0murl\u001b[0m\u001b[0;34m,\u001b[0m \u001b[0mdata\u001b[0m\u001b[0;34m,\u001b[0m \u001b[0mtimeout\u001b[0m\u001b[0;34m)\u001b[0m\u001b[0;34m\u001b[0m\u001b[0;34m\u001b[0m\u001b[0m\n\u001b[0m\u001b[1;32m    223\u001b[0m \u001b[0;34m\u001b[0m\u001b[0m\n\u001b[1;32m    224\u001b[0m \u001b[0;32mdef\u001b[0m \u001b[0minstall_opener\u001b[0m\u001b[0;34m(\u001b[0m\u001b[0mopener\u001b[0m\u001b[0;34m)\u001b[0m\u001b[0;34m:\u001b[0m\u001b[0;34m\u001b[0m\u001b[0;34m\u001b[0m\u001b[0m\n",
      "\u001b[0;32m/Library/Frameworks/Python.framework/Versions/3.7/lib/python3.7/urllib/request.py\u001b[0m in \u001b[0;36mopen\u001b[0;34m(self, fullurl, data, timeout)\u001b[0m\n\u001b[1;32m    523\u001b[0m             \u001b[0mreq\u001b[0m \u001b[0;34m=\u001b[0m \u001b[0mmeth\u001b[0m\u001b[0;34m(\u001b[0m\u001b[0mreq\u001b[0m\u001b[0;34m)\u001b[0m\u001b[0;34m\u001b[0m\u001b[0;34m\u001b[0m\u001b[0m\n\u001b[1;32m    524\u001b[0m \u001b[0;34m\u001b[0m\u001b[0m\n\u001b[0;32m--> 525\u001b[0;31m         \u001b[0mresponse\u001b[0m \u001b[0;34m=\u001b[0m \u001b[0mself\u001b[0m\u001b[0;34m.\u001b[0m\u001b[0m_open\u001b[0m\u001b[0;34m(\u001b[0m\u001b[0mreq\u001b[0m\u001b[0;34m,\u001b[0m \u001b[0mdata\u001b[0m\u001b[0;34m)\u001b[0m\u001b[0;34m\u001b[0m\u001b[0;34m\u001b[0m\u001b[0m\n\u001b[0m\u001b[1;32m    526\u001b[0m \u001b[0;34m\u001b[0m\u001b[0m\n\u001b[1;32m    527\u001b[0m         \u001b[0;31m# post-process response\u001b[0m\u001b[0;34m\u001b[0m\u001b[0;34m\u001b[0m\u001b[0;34m\u001b[0m\u001b[0m\n",
      "\u001b[0;32m/Library/Frameworks/Python.framework/Versions/3.7/lib/python3.7/urllib/request.py\u001b[0m in \u001b[0;36m_open\u001b[0;34m(self, req, data)\u001b[0m\n\u001b[1;32m    541\u001b[0m         \u001b[0mprotocol\u001b[0m \u001b[0;34m=\u001b[0m \u001b[0mreq\u001b[0m\u001b[0;34m.\u001b[0m\u001b[0mtype\u001b[0m\u001b[0;34m\u001b[0m\u001b[0;34m\u001b[0m\u001b[0m\n\u001b[1;32m    542\u001b[0m         result = self._call_chain(self.handle_open, protocol, protocol +\n\u001b[0;32m--> 543\u001b[0;31m                                   '_open', req)\n\u001b[0m\u001b[1;32m    544\u001b[0m         \u001b[0;32mif\u001b[0m \u001b[0mresult\u001b[0m\u001b[0;34m:\u001b[0m\u001b[0;34m\u001b[0m\u001b[0;34m\u001b[0m\u001b[0m\n\u001b[1;32m    545\u001b[0m             \u001b[0;32mreturn\u001b[0m \u001b[0mresult\u001b[0m\u001b[0;34m\u001b[0m\u001b[0;34m\u001b[0m\u001b[0m\n",
      "\u001b[0;32m/Library/Frameworks/Python.framework/Versions/3.7/lib/python3.7/urllib/request.py\u001b[0m in \u001b[0;36m_call_chain\u001b[0;34m(self, chain, kind, meth_name, *args)\u001b[0m\n\u001b[1;32m    501\u001b[0m         \u001b[0;32mfor\u001b[0m \u001b[0mhandler\u001b[0m \u001b[0;32min\u001b[0m \u001b[0mhandlers\u001b[0m\u001b[0;34m:\u001b[0m\u001b[0;34m\u001b[0m\u001b[0;34m\u001b[0m\u001b[0m\n\u001b[1;32m    502\u001b[0m             \u001b[0mfunc\u001b[0m \u001b[0;34m=\u001b[0m \u001b[0mgetattr\u001b[0m\u001b[0;34m(\u001b[0m\u001b[0mhandler\u001b[0m\u001b[0;34m,\u001b[0m \u001b[0mmeth_name\u001b[0m\u001b[0;34m)\u001b[0m\u001b[0;34m\u001b[0m\u001b[0;34m\u001b[0m\u001b[0m\n\u001b[0;32m--> 503\u001b[0;31m             \u001b[0mresult\u001b[0m \u001b[0;34m=\u001b[0m \u001b[0mfunc\u001b[0m\u001b[0;34m(\u001b[0m\u001b[0;34m*\u001b[0m\u001b[0margs\u001b[0m\u001b[0;34m)\u001b[0m\u001b[0;34m\u001b[0m\u001b[0;34m\u001b[0m\u001b[0m\n\u001b[0m\u001b[1;32m    504\u001b[0m             \u001b[0;32mif\u001b[0m \u001b[0mresult\u001b[0m \u001b[0;32mis\u001b[0m \u001b[0;32mnot\u001b[0m \u001b[0;32mNone\u001b[0m\u001b[0;34m:\u001b[0m\u001b[0;34m\u001b[0m\u001b[0;34m\u001b[0m\u001b[0m\n\u001b[1;32m    505\u001b[0m                 \u001b[0;32mreturn\u001b[0m \u001b[0mresult\u001b[0m\u001b[0;34m\u001b[0m\u001b[0;34m\u001b[0m\u001b[0m\n",
      "\u001b[0;32m/Library/Frameworks/Python.framework/Versions/3.7/lib/python3.7/urllib/request.py\u001b[0m in \u001b[0;36mhttps_open\u001b[0;34m(self, req)\u001b[0m\n\u001b[1;32m   1358\u001b[0m         \u001b[0;32mdef\u001b[0m \u001b[0mhttps_open\u001b[0m\u001b[0;34m(\u001b[0m\u001b[0mself\u001b[0m\u001b[0;34m,\u001b[0m \u001b[0mreq\u001b[0m\u001b[0;34m)\u001b[0m\u001b[0;34m:\u001b[0m\u001b[0;34m\u001b[0m\u001b[0;34m\u001b[0m\u001b[0m\n\u001b[1;32m   1359\u001b[0m             return self.do_open(http.client.HTTPSConnection, req,\n\u001b[0;32m-> 1360\u001b[0;31m                 context=self._context, check_hostname=self._check_hostname)\n\u001b[0m\u001b[1;32m   1361\u001b[0m \u001b[0;34m\u001b[0m\u001b[0m\n\u001b[1;32m   1362\u001b[0m         \u001b[0mhttps_request\u001b[0m \u001b[0;34m=\u001b[0m \u001b[0mAbstractHTTPHandler\u001b[0m\u001b[0;34m.\u001b[0m\u001b[0mdo_request_\u001b[0m\u001b[0;34m\u001b[0m\u001b[0;34m\u001b[0m\u001b[0m\n",
      "\u001b[0;32m/Library/Frameworks/Python.framework/Versions/3.7/lib/python3.7/urllib/request.py\u001b[0m in \u001b[0;36mdo_open\u001b[0;34m(self, http_class, req, **http_conn_args)\u001b[0m\n\u001b[1;32m   1317\u001b[0m                           encode_chunked=req.has_header('Transfer-encoding'))\n\u001b[1;32m   1318\u001b[0m             \u001b[0;32mexcept\u001b[0m \u001b[0mOSError\u001b[0m \u001b[0;32mas\u001b[0m \u001b[0merr\u001b[0m\u001b[0;34m:\u001b[0m \u001b[0;31m# timeout error\u001b[0m\u001b[0;34m\u001b[0m\u001b[0;34m\u001b[0m\u001b[0m\n\u001b[0;32m-> 1319\u001b[0;31m                 \u001b[0;32mraise\u001b[0m \u001b[0mURLError\u001b[0m\u001b[0;34m(\u001b[0m\u001b[0merr\u001b[0m\u001b[0;34m)\u001b[0m\u001b[0;34m\u001b[0m\u001b[0;34m\u001b[0m\u001b[0m\n\u001b[0m\u001b[1;32m   1320\u001b[0m             \u001b[0mr\u001b[0m \u001b[0;34m=\u001b[0m \u001b[0mh\u001b[0m\u001b[0;34m.\u001b[0m\u001b[0mgetresponse\u001b[0m\u001b[0;34m(\u001b[0m\u001b[0;34m)\u001b[0m\u001b[0;34m\u001b[0m\u001b[0;34m\u001b[0m\u001b[0m\n\u001b[1;32m   1321\u001b[0m         \u001b[0;32mexcept\u001b[0m\u001b[0;34m:\u001b[0m\u001b[0;34m\u001b[0m\u001b[0;34m\u001b[0m\u001b[0m\n",
      "\u001b[0;31mURLError\u001b[0m: <urlopen error [SSL: CERTIFICATE_VERIFY_FAILED] certificate verify failed: unable to get local issuer certificate (_ssl.c:1076)>"
     ]
    }
   ],
   "source": [
    "chequeator(submission)"
   ]
  },
  {
   "cell_type": "code",
   "execution_count": 40,
   "metadata": {},
   "outputs": [
    {
     "name": "stdout",
     "output_type": "stream",
     "text": [
      "RMSE: 394.7800430932667\n"
     ]
    }
   ],
   "source": [
    "print(f\"RMSE: {np.sqrt(mean_squared_error(y_test, prediction))}\")"
   ]
  }
 ],
 "metadata": {
  "kernelspec": {
   "display_name": "Python 3",
   "language": "python",
   "name": "python3"
  },
  "language_info": {
   "codemirror_mode": {
    "name": "ipython",
    "version": 3
   },
   "file_extension": ".py",
   "mimetype": "text/x-python",
   "name": "python",
   "nbconvert_exporter": "python",
   "pygments_lexer": "ipython3",
   "version": "3.7.4"
  }
 },
 "nbformat": 4,
 "nbformat_minor": 4
}
